{
 "cells": [
  {
   "cell_type": "markdown",
   "metadata": {},
   "source": [
    "### Exercice 4.1"
   ]
  },
  {
   "cell_type": "markdown",
   "metadata": {},
   "source": [
    "Par le Lemme de Dickson on sait qu'il existe un ensemble $T = \\{a(1), \\dots, a(t) \\}$ tel que $I =\\langle x^{a(1)}, \\dots, x^{a(t)} \\rangle$. En re-ordonnant si nécessaire on peut assumer que $a(1) <\\dots < a(t)$. On va montrer que $a(1)$, c'est-à-dire le plus petit élément de $T$, est le plus petit élément de $A$. Soit $a \\in A$. Alors $x^a \\in I = \\langle x^{a(1)}, \\dots, x^{a(t)}\\rangle $ et donc $x^a$ est divisible par un $a(i)$, $1\\leq i \\leq t$. Alors $a = a(i) + c$ pour un $c \\in \\mathbb{N}$. On a que $c \\ge 0$ et donc $a = a(i) + c \\ge a(i) + 0 = a(i) \\ge a(1)$."
   ]
  },
  {
   "cell_type": "markdown",
   "metadata": {},
   "source": [
    "### Exercice 4.3"
   ]
  },
  {
   "cell_type": "code",
   "execution_count": 1,
   "metadata": {},
   "outputs": [],
   "source": [
    "A.<x,y,z> = PolynomialRing(QQ, order = 'lex')"
   ]
  },
  {
   "cell_type": "code",
   "execution_count": 2,
   "metadata": {},
   "outputs": [],
   "source": [
    "I = A.ideal(x^2-2*x*z+5, x*y^2+y*z^3, 3*y^2-8*z^3)"
   ]
  },
  {
   "cell_type": "code",
   "execution_count": 3,
   "metadata": {},
   "outputs": [
    {
     "data": {
      "text/plain": [
       "Ideal (x^2 - 2*x*z + 5, x*y^2 + y*z^3, 3*y^2 - 8*z^3) of Multivariate Polynomial Ring in x, y, z over Rational Field"
      ]
     },
     "execution_count": 3,
     "metadata": {},
     "output_type": "execute_result"
    }
   ],
   "source": [
    "I"
   ]
  },
  {
   "cell_type": "code",
   "execution_count": 4,
   "metadata": {},
   "outputs": [],
   "source": [
    "G = I.groebner_basis()"
   ]
  },
  {
   "cell_type": "code",
   "execution_count": 5,
   "metadata": {},
   "outputs": [
    {
     "data": {
      "text/plain": [
       "[x^2 - 2*x*z + 5, x*z^3 + 9/640*z^8 - 3/20*z^7 + 3/16*z^5, y^2 - 8/3*z^3, y*z^3 - 3/80*z^8 + 2/5*z^7 - 1/2*z^5, z^9 - 32/3*z^8 + 80/3*z^6 + 1600/9*z^3]"
      ]
     },
     "execution_count": 5,
     "metadata": {},
     "output_type": "execute_result"
    }
   ],
   "source": [
    "G"
   ]
  },
  {
   "cell_type": "code",
   "execution_count": 6,
   "metadata": {},
   "outputs": [],
   "source": [
    "J = I.change_ring(A.change_ring(order = 'degrevlex'))"
   ]
  },
  {
   "cell_type": "code",
   "execution_count": 7,
   "metadata": {},
   "outputs": [
    {
     "data": {
      "text/plain": [
       "[y^4 + 16/3*y^3*z + 320/9*y^2, x*y^2 + 3/8*y^3, z^3 - 3/8*y^2, x^2 - 2*x*z + 5]"
      ]
     },
     "execution_count": 7,
     "metadata": {},
     "output_type": "execute_result"
    }
   ],
   "source": [
    "J.groebner_basis()"
   ]
  },
  {
   "cell_type": "markdown",
   "metadata": {},
   "source": [
    "### Exercice 6.1"
   ]
  },
  {
   "cell_type": "code",
   "execution_count": 8,
   "metadata": {},
   "outputs": [],
   "source": [
    "A.<x,y> = PolynomialRing(QQ, order = 'lex')"
   ]
  },
  {
   "cell_type": "code",
   "execution_count": 9,
   "metadata": {},
   "outputs": [],
   "source": [
    "I = A.ideal(x^2*y^2 - x, x*y^3 + y)"
   ]
  },
  {
   "cell_type": "code",
   "execution_count": 10,
   "metadata": {},
   "outputs": [],
   "source": [
    "G = I.groebner_basis()"
   ]
  },
  {
   "cell_type": "code",
   "execution_count": 11,
   "metadata": {},
   "outputs": [
    {
     "data": {
      "text/plain": [
       "[x, y]"
      ]
     },
     "execution_count": 11,
     "metadata": {},
     "output_type": "execute_result"
    }
   ],
   "source": [
    "G"
   ]
  },
  {
   "cell_type": "code",
   "execution_count": 12,
   "metadata": {},
   "outputs": [
    {
     "data": {
      "text/plain": [
       "x"
      ]
     },
     "execution_count": 12,
     "metadata": {},
     "output_type": "execute_result"
    }
   ],
   "source": [
    "G[0]"
   ]
  },
  {
   "cell_type": "code",
   "execution_count": 13,
   "metadata": {},
   "outputs": [
    {
     "data": {
      "text/plain": [
       "y"
      ]
     },
     "execution_count": 13,
     "metadata": {},
     "output_type": "execute_result"
    }
   ],
   "source": [
    "G[1]"
   ]
  },
  {
   "cell_type": "code",
   "execution_count": 14,
   "metadata": {},
   "outputs": [
    {
     "data": {
      "text/plain": [
       "True"
      ]
     },
     "execution_count": 14,
     "metadata": {},
     "output_type": "execute_result"
    }
   ],
   "source": [
    "G[0] in I"
   ]
  },
  {
   "cell_type": "code",
   "execution_count": 15,
   "metadata": {},
   "outputs": [
    {
     "data": {
      "text/plain": [
       "True"
      ]
     },
     "execution_count": 15,
     "metadata": {},
     "output_type": "execute_result"
    }
   ],
   "source": [
    "G[1] in I"
   ]
  },
  {
   "cell_type": "markdown",
   "metadata": {},
   "source": [
    "On peut faire les deux opérations en même temps."
   ]
  },
  {
   "cell_type": "code",
   "execution_count": 16,
   "metadata": {},
   "outputs": [
    {
     "data": {
      "text/plain": [
       "[True, True]"
      ]
     },
     "execution_count": 16,
     "metadata": {},
     "output_type": "execute_result"
    }
   ],
   "source": [
    "[g in I for g in G]"
   ]
  },
  {
   "cell_type": "code",
   "execution_count": 17,
   "metadata": {},
   "outputs": [],
   "source": [
    "P = x^3*y^2 + 2*x*y^4"
   ]
  },
  {
   "cell_type": "markdown",
   "metadata": {},
   "source": [
    "Il y a plusieurs manières de calculer $\\overline{P}^G$."
   ]
  },
  {
   "cell_type": "code",
   "execution_count": 20,
   "metadata": {},
   "outputs": [
    {
     "data": {
      "text/plain": [
       "0"
      ]
     },
     "execution_count": 20,
     "metadata": {},
     "output_type": "execute_result"
    }
   ],
   "source": [
    "P.mod(G)"
   ]
  },
  {
   "cell_type": "code",
   "execution_count": 21,
   "metadata": {},
   "outputs": [
    {
     "data": {
      "text/plain": [
       "0"
      ]
     },
     "execution_count": 21,
     "metadata": {},
     "output_type": "execute_result"
    }
   ],
   "source": [
    "P.reduce(G)"
   ]
  },
  {
   "cell_type": "code",
   "execution_count": 22,
   "metadata": {},
   "outputs": [
    {
     "data": {
      "text/plain": [
       "True"
      ]
     },
     "execution_count": 22,
     "metadata": {},
     "output_type": "execute_result"
    }
   ],
   "source": [
    "P in I"
   ]
  },
  {
   "cell_type": "markdown",
   "metadata": {},
   "source": [
    "### Exercice 6.2"
   ]
  },
  {
   "cell_type": "code",
   "execution_count": 23,
   "metadata": {},
   "outputs": [],
   "source": [
    "A.<x,y,z> = QQ[]"
   ]
  },
  {
   "cell_type": "code",
   "execution_count": 24,
   "metadata": {},
   "outputs": [],
   "source": [
    "I = A.ideal(x*y*z + z^3, y^2)"
   ]
  },
  {
   "cell_type": "code",
   "execution_count": 25,
   "metadata": {},
   "outputs": [
    {
     "data": {
      "text/plain": [
       "[z^5, y*z^3, x*y*z + z^3, y^2]"
      ]
     },
     "execution_count": 25,
     "metadata": {},
     "output_type": "execute_result"
    }
   ],
   "source": [
    "I.groebner_basis()"
   ]
  },
  {
   "cell_type": "markdown",
   "metadata": {},
   "source": [
    "### Exercice 6.3"
   ]
  },
  {
   "cell_type": "markdown",
   "metadata": {},
   "source": [
    "Puisque $G$ est une base de Gröbner pour $I$ nous avons que  $\\langle \\mathrm{LT}(G) \\rangle = \\langle \\mathrm{LT}(I) \\rangle$. On a que $\\mathrm{LT}(Q) = x^a\\mathrm{LT}(P) \\in \\langle \\mathrm{LT}(G\\setminus\\{Q\\}) \\rangle$ et donc que $\\langle \\mathrm{LT}(G\\setminus\\{Q\\}) \\rangle = \\langle \\mathrm{LT}(G) \\rangle$. Par définition $G\\setminus\\{Q\\}$ est donc aussi une base de Gröbner pour $I$."
   ]
  },
  {
   "cell_type": "markdown",
   "metadata": {},
   "source": [
    "### Exercice 6.4"
   ]
  },
  {
   "cell_type": "code",
   "execution_count": 80,
   "metadata": {},
   "outputs": [],
   "source": [
    "A.<x,y,z> = QQ[]"
   ]
  },
  {
   "cell_type": "code",
   "execution_count": 81,
   "metadata": {},
   "outputs": [],
   "source": [
    "I = A.ideal(x + y + z, x*y + y*z + z*x, x*y*z + 1)"
   ]
  },
  {
   "cell_type": "code",
   "execution_count": 29,
   "metadata": {},
   "outputs": [],
   "source": [
    "P = x^3 + 1"
   ]
  },
  {
   "cell_type": "code",
   "execution_count": 30,
   "metadata": {},
   "outputs": [
    {
     "data": {
      "text/plain": [
       "0"
      ]
     },
     "execution_count": 30,
     "metadata": {},
     "output_type": "execute_result"
    }
   ],
   "source": [
    "P.mod(I)"
   ]
  },
  {
   "cell_type": "code",
   "execution_count": null,
   "metadata": {},
   "outputs": [],
   "source": [
    "P in I"
   ]
  },
  {
   "cell_type": "markdown",
   "metadata": {},
   "source": [
    "Ce n'est pas demandé, mais on peut retrouver faciment l'écriture de $P$ comme une combinaison de générateurs de $I$ : $P = a\\cdot(x + y + z) + b\\cdot(xy + yz + zx) + c\\cdot(xyz + 1)$ avec $a,b,c \\in k[x,y,z]$."
   ]
  },
  {
   "cell_type": "code",
   "execution_count": 32,
   "metadata": {},
   "outputs": [],
   "source": [
    "a, b, c = P.lift(I)"
   ]
  },
  {
   "cell_type": "code",
   "execution_count": 33,
   "metadata": {},
   "outputs": [
    {
     "data": {
      "text/plain": [
       "(x^2 - x*y - x*z - y*z, y + z, 1)"
      ]
     },
     "execution_count": 33,
     "metadata": {},
     "output_type": "execute_result"
    }
   ],
   "source": [
    "a, b, c"
   ]
  },
  {
   "cell_type": "markdown",
   "metadata": {},
   "source": [
    "Vérification"
   ]
  },
  {
   "cell_type": "code",
   "execution_count": 34,
   "metadata": {},
   "outputs": [
    {
     "data": {
      "text/plain": [
       "[x + y + z, x*y + x*z + y*z, x*y*z + 1]"
      ]
     },
     "execution_count": 34,
     "metadata": {},
     "output_type": "execute_result"
    }
   ],
   "source": [
    "I.gens()"
   ]
  },
  {
   "cell_type": "code",
   "execution_count": 36,
   "metadata": {},
   "outputs": [
    {
     "data": {
      "text/plain": [
       "x^3 + 1"
      ]
     },
     "execution_count": 36,
     "metadata": {},
     "output_type": "execute_result"
    }
   ],
   "source": [
    "a*I.gens()[0] + b*I.gens()[1] + c*I.gens()[2]"
   ]
  },
  {
   "cell_type": "code",
   "execution_count": 37,
   "metadata": {},
   "outputs": [
    {
     "data": {
      "text/plain": [
       "True"
      ]
     },
     "execution_count": 37,
     "metadata": {},
     "output_type": "execute_result"
    }
   ],
   "source": [
    "a*I.gens()[0] + b*I.gens()[1] + c*I.gens()[2] == P"
   ]
  },
  {
   "cell_type": "markdown",
   "metadata": {},
   "source": [
    "### Exercice 6.5"
   ]
  },
  {
   "cell_type": "markdown",
   "metadata": {},
   "source": [
    "Soit $G = \\{g_1, \\dots, g_t\\} \\subseteq I$, où $g_1$ est un générateur de $I$. On commence par montrer le résultat suivant :\n",
    " \n",
    " **Lemme** Soit $I$ un idéal de $k[x_1, \\dots, x_n]$. Alors $G = \\{g_1, \\dots, g_t\\} \\subseteq I$ est une base de Gröbner pour $I$ si et seulement si le terme dominant de chaque élément de $I$ est divisible par un des  $\\mathrm{LT}(g_i)$.\n",
    " \n",
    " \n",
    " *Démonstration* : Nous avons les équivalences suivantes :\n",
    " \\begin{align*}\n",
    "  \\{g_1, \\dots, g_t\\} \\text{ est une base de Gröbner pour } I &\\Leftrightarrow \\langle \\mathrm{LT}(g_1), \\dots, \\mathrm{LT}(g_t) \\rangle = \\langle \\mathrm{LT}(I)  \\rangle\\\\\n",
    "  &\\Leftrightarrow  \\langle \\mathrm{LT}(I)  \\rangle \\subseteq  \\langle \\mathrm{LT}(g_1), \\dots, \\mathrm{LT}(g_t) \\rangle, \\\\\n",
    "   &\\Leftrightarrow \\mathrm{LT}(g) \\in  \\langle \\mathrm{LT}(g_1), \\dots, \\mathrm{LT}(g_t) \\rangle, \\text{ pour tout } g \\in I\\setminus \\{0\\},\\\\\n",
    "   &\\Leftrightarrow \\text{ pour tout } g \\in I\\setminus \\{0\\}, \\mathrm{LT}(g) \\text{ est divisible par un } \\mathrm{LT}(g_i).\n",
    " \\end{align*}\n",
    " \n",
    " En utilisant le résultat si dessus, il suffit de montrer que si $f \\in I\\setminus \\{0\\}$ alors $\\mathrm{LT}(f)$ est divisible par un $\\mathrm{LT}(g_i)$, $1 \\leq i \\leq t$. Puisque $g_1$ génère $I$, $f \\in I$, implique que $f = hg_1$ pour un polynôme $h$. On a donc que $$\\mathrm{LT}(f) = \\mathrm{LT}(hg_1) = \\mathrm{LT}(h)\\mathrm{LT}(g_1),$$\n",
    " et donc $\\mathrm{LT}(f)$ est divisible par $\\mathrm{LT}(g_1)$.\n"
   ]
  },
  {
   "cell_type": "markdown",
   "metadata": {},
   "source": [
    "### Exercice 6.6"
   ]
  },
  {
   "cell_type": "code",
   "execution_count": 38,
   "metadata": {},
   "outputs": [],
   "source": [
    "A.<x,y,z,t> = PolynomialRing(QQ, order = 'lex')"
   ]
  },
  {
   "cell_type": "code",
   "execution_count": 39,
   "metadata": {},
   "outputs": [],
   "source": [
    "I = A.ideal(z^5 - y^3*t^2, x^2*t - y*z^2, x^2*z^3 - y^4*t, x^4*z - y^5)"
   ]
  },
  {
   "cell_type": "code",
   "execution_count": 40,
   "metadata": {},
   "outputs": [
    {
     "data": {
      "text/plain": [
       "True"
      ]
     },
     "execution_count": 40,
     "metadata": {},
     "output_type": "execute_result"
    }
   ],
   "source": [
    "I.basis_is_groebner()"
   ]
  },
  {
   "cell_type": "markdown",
   "metadata": {},
   "source": [
    "On peut enregistrer dans une liste le résultat, pour pouvoir plus facilement le manipuler plus tard."
   ]
  },
  {
   "cell_type": "code",
   "execution_count": 41,
   "metadata": {},
   "outputs": [],
   "source": [
    "T = [z^11, y*z^2, y^3*t^2, y^4*t, y^5, x^2*y^2*t^3, x^4*y*t^4]"
   ]
  },
  {
   "cell_type": "markdown",
   "metadata": {},
   "source": [
    "On commence par tester différents ordres."
   ]
  },
  {
   "cell_type": "code",
   "execution_count": 42,
   "metadata": {},
   "outputs": [
    {
     "data": {
      "text/plain": [
       "[x^4*z - y^5, x^2*z^3 - y^4*t, y^3*t^2 - z^5, x^2*t - y*z^2]"
      ]
     },
     "execution_count": 42,
     "metadata": {},
     "output_type": "execute_result"
    }
   ],
   "source": [
    "I.change_ring(A.change_ring(order = 'deglex')).groebner_basis()"
   ]
  },
  {
   "cell_type": "code",
   "execution_count": 43,
   "metadata": {},
   "outputs": [
    {
     "data": {
      "text/plain": [
       "[y^5 - x^4*z, x^2*z^3 - y^4*t, z^5 - y^3*t^2, y*z^2 - x^2*t]"
      ]
     },
     "execution_count": 43,
     "metadata": {},
     "output_type": "execute_result"
    }
   ],
   "source": [
    "I.change_ring(A.change_ring(order = 'degrevlex')).groebner_basis()"
   ]
  },
  {
   "cell_type": "code",
   "execution_count": 44,
   "metadata": {},
   "outputs": [
    {
     "data": {
      "text/plain": [
       "[y^3*t^2 - z^5, y^4*t - x^2*z^3, x^2*t - y*z^2, x^4*z - y^5]"
      ]
     },
     "execution_count": 44,
     "metadata": {},
     "output_type": "execute_result"
    }
   ],
   "source": [
    "I.change_ring(A.change_ring(order = 'invlex')).groebner_basis()"
   ]
  },
  {
   "cell_type": "markdown",
   "metadata": {},
   "source": [
    "Jusqu'à là ça n'a pas marché. On peut maintenant tenter de changer l'ordre des variables au sein des différents ordres."
   ]
  },
  {
   "cell_type": "code",
   "execution_count": 45,
   "metadata": {},
   "outputs": [],
   "source": [
    "B = A.change_ring(names = 't,x,y,z')"
   ]
  },
  {
   "cell_type": "code",
   "execution_count": 46,
   "metadata": {},
   "outputs": [
    {
     "data": {
      "text/plain": [
       "t"
      ]
     },
     "execution_count": 46,
     "metadata": {},
     "output_type": "execute_result"
    }
   ],
   "source": [
    "B.gen(0)"
   ]
  },
  {
   "cell_type": "code",
   "execution_count": 47,
   "metadata": {},
   "outputs": [
    {
     "data": {
      "text/plain": [
       "x"
      ]
     },
     "execution_count": 47,
     "metadata": {},
     "output_type": "execute_result"
    }
   ],
   "source": [
    "B.gen(1)"
   ]
  },
  {
   "cell_type": "code",
   "execution_count": 48,
   "metadata": {},
   "outputs": [
    {
     "data": {
      "text/plain": [
       "True"
      ]
     },
     "execution_count": 48,
     "metadata": {},
     "output_type": "execute_result"
    }
   ],
   "source": [
    "B.gen(0) > B.gen(1)"
   ]
  },
  {
   "cell_type": "code",
   "execution_count": 50,
   "metadata": {},
   "outputs": [],
   "source": [
    "J = B.ideal(z^5 - y^3*t^2, x^2*t - y*z^2, x^2*z^3 - y^4*t, x^4*z - y^5)"
   ]
  },
  {
   "cell_type": "code",
   "execution_count": 52,
   "metadata": {},
   "outputs": [],
   "source": [
    "G = J.groebner_basis()"
   ]
  },
  {
   "cell_type": "code",
   "execution_count": 53,
   "metadata": {},
   "outputs": [
    {
     "data": {
      "text/plain": [
       "[t^2*y^3 - z^5, t*x^2 - y*z^2, t*y^4 - x^2*z^3, x^4*z - y^5]"
      ]
     },
     "execution_count": 53,
     "metadata": {},
     "output_type": "execute_result"
    }
   ],
   "source": [
    "G"
   ]
  },
  {
   "cell_type": "code",
   "execution_count": 55,
   "metadata": {},
   "outputs": [
    {
     "data": {
      "text/plain": [
       "[t^2*y^3, t*x^2, t*y^4, x^4*z]"
      ]
     },
     "execution_count": 55,
     "metadata": {},
     "output_type": "execute_result"
    }
   ],
   "source": [
    "[g.lt() for g in G]"
   ]
  },
  {
   "cell_type": "markdown",
   "metadata": {},
   "source": [
    "Toujours pas ..."
   ]
  },
  {
   "cell_type": "code",
   "execution_count": 56,
   "metadata": {},
   "outputs": [],
   "source": [
    "G = I.change_ring(A.change_ring(names = 'y,z,t,x')).groebner_basis()"
   ]
  },
  {
   "cell_type": "code",
   "execution_count": 57,
   "metadata": {},
   "outputs": [
    {
     "data": {
      "text/plain": [
       "[y^5 - z*x^4, y^4*t - z^3*x^2, y^3*t^2 - z^5, y^2*t^3*x^2 - z^7, y*z^2 - t*x^2, y*t^4*x^4 - z^9, z^11 - t^5*x^6]"
      ]
     },
     "execution_count": 57,
     "metadata": {},
     "output_type": "execute_result"
    }
   ],
   "source": [
    "G"
   ]
  },
  {
   "cell_type": "code",
   "execution_count": 60,
   "metadata": {},
   "outputs": [],
   "source": [
    "a = [A(g.lt()) for g in G]"
   ]
  },
  {
   "cell_type": "code",
   "execution_count": 82,
   "metadata": {},
   "outputs": [
    {
     "data": {
      "text/plain": [
       "[y^5, y^4*t, y^3*t^2, x^2*y^2*t^3, y*z^2, x^4*y*t^4, z^11]"
      ]
     },
     "execution_count": 82,
     "metadata": {},
     "output_type": "execute_result"
    }
   ],
   "source": [
    "a"
   ]
  },
  {
   "cell_type": "markdown",
   "metadata": {},
   "source": [
    "Le résultat ressemble beaucoup à ce qu'on veut."
   ]
  },
  {
   "cell_type": "code",
   "execution_count": 62,
   "metadata": {},
   "outputs": [
    {
     "data": {
      "text/plain": [
       "False"
      ]
     },
     "execution_count": 62,
     "metadata": {},
     "output_type": "execute_result"
    }
   ],
   "source": [
    "a == T"
   ]
  },
  {
   "cell_type": "markdown",
   "metadata": {},
   "source": [
    "Les deux listes sont différentes, car les éléments ne s'y trouvent pas dans le même ordre."
   ]
  },
  {
   "cell_type": "code",
   "execution_count": 63,
   "metadata": {},
   "outputs": [
    {
     "data": {
      "text/plain": [
       "True"
      ]
     },
     "execution_count": 63,
     "metadata": {},
     "output_type": "execute_result"
    }
   ],
   "source": [
    "set(a) == set(T)"
   ]
  },
  {
   "cell_type": "markdown",
   "metadata": {},
   "source": [
    "*set* permet de tester si les deux ensembles sont égaux (l'ordre des éléments ne compte pas)."
   ]
  },
  {
   "cell_type": "markdown",
   "metadata": {},
   "source": [
    "On peut rendre la recherche (plus) automatique."
   ]
  },
  {
   "cell_type": "code",
   "execution_count": 64,
   "metadata": {},
   "outputs": [],
   "source": [
    "def tester_ordre(ordre, noms) :\n",
    "    G = I.change_ring(A.change_ring(order = ordre, names = noms)).groebner_basis()\n",
    "    a = [A(g.lt()) for g in G]\n",
    "    return set(a) == set(T)"
   ]
  },
  {
   "cell_type": "code",
   "execution_count": 65,
   "metadata": {},
   "outputs": [
    {
     "data": {
      "text/plain": [
       "True"
      ]
     },
     "execution_count": 65,
     "metadata": {},
     "output_type": "execute_result"
    }
   ],
   "source": [
    "tester_ordre('lex', 'y,z,t,x')"
   ]
  },
  {
   "cell_type": "code",
   "execution_count": 66,
   "metadata": {},
   "outputs": [
    {
     "data": {
      "text/plain": [
       "True"
      ]
     },
     "execution_count": 66,
     "metadata": {},
     "output_type": "execute_result"
    }
   ],
   "source": [
    "tester_ordre('deglex', 'y,z,t,x')"
   ]
  },
  {
   "cell_type": "code",
   "execution_count": 67,
   "metadata": {},
   "outputs": [
    {
     "data": {
      "text/plain": [
       "False"
      ]
     },
     "execution_count": 67,
     "metadata": {},
     "output_type": "execute_result"
    }
   ],
   "source": [
    "tester_ordre('deglex', 'z,t,x,y')"
   ]
  },
  {
   "cell_type": "markdown",
   "metadata": {},
   "source": [
    "### Exercice 6.7"
   ]
  },
  {
   "cell_type": "code",
   "execution_count": 68,
   "metadata": {},
   "outputs": [],
   "source": [
    "A.<x,y> = QQ[]"
   ]
  },
  {
   "cell_type": "code",
   "execution_count": 69,
   "metadata": {},
   "outputs": [],
   "source": [
    "I = A.ideal(x-y^2, x*y-x)"
   ]
  },
  {
   "cell_type": "markdown",
   "metadata": {},
   "source": [
    "On cherche un ensemble $G$ qui soit une base de Gröbner de $I$ peu importe l'ordre choisi."
   ]
  },
  {
   "cell_type": "markdown",
   "metadata": {},
   "source": [
    "On peut regarder les bases de Gröbner obtenues avec différentes ordres et essayer de déduire la forme qui aurait une base de Gröbner universelle pour $I$. "
   ]
  },
  {
   "cell_type": "code",
   "execution_count": 70,
   "metadata": {},
   "outputs": [],
   "source": [
    "G = I.groebner_basis()"
   ]
  },
  {
   "cell_type": "code",
   "execution_count": 71,
   "metadata": {},
   "outputs": [
    {
     "data": {
      "text/plain": [
       "[x^2 - x, x*y - x, y^2 - x]"
      ]
     },
     "execution_count": 71,
     "metadata": {},
     "output_type": "execute_result"
    }
   ],
   "source": [
    "G"
   ]
  },
  {
   "cell_type": "code",
   "execution_count": 72,
   "metadata": {},
   "outputs": [
    {
     "data": {
      "text/plain": [
       "[x - y^2, y^3 - y^2]"
      ]
     },
     "execution_count": 72,
     "metadata": {},
     "output_type": "execute_result"
    }
   ],
   "source": [
    "I.change_ring(A.change_ring(order = 'lex')).groebner_basis()"
   ]
  },
  {
   "cell_type": "code",
   "execution_count": 73,
   "metadata": {},
   "outputs": [
    {
     "data": {
      "text/plain": [
       "[x^2 - x, x*y - x, y^2 - x]"
      ]
     },
     "execution_count": 73,
     "metadata": {},
     "output_type": "execute_result"
    }
   ],
   "source": [
    "I.change_ring(A.change_ring(order = 'deglex')).groebner_basis()"
   ]
  },
  {
   "cell_type": "code",
   "execution_count": 74,
   "metadata": {},
   "outputs": [
    {
     "data": {
      "text/plain": [
       "[y^2 - x, x*y - x, x^2 - x]"
      ]
     },
     "execution_count": 74,
     "metadata": {},
     "output_type": "execute_result"
    }
   ],
   "source": [
    "I.change_ring(A.change_ring(order = 'invlex')).groebner_basis()"
   ]
  },
  {
   "cell_type": "markdown",
   "metadata": {},
   "source": [
    "Il y a des ordres plus compliqués implementés dans *Sage*. Pour avoir un aperçu on peut regarder taper *help(TermOrder)*."
   ]
  },
  {
   "cell_type": "markdown",
   "metadata": {},
   "source": [
    "La base de Gröbner universelle de $I$ est l'union de toutes les bases de Gröbner de $I$ pour tout ordre admissible.\n",
    "\n",
    "Évidemment, il n'est pas possible de tester tous les ordres admissibles, notamment car leur nombre est infini. Cependant, avec nos calculs nous pouvons conjecturer que \n",
    "\n",
    "$$G=\\{x-y^2,y^3-y^2,xy-x,x^2-x\\}$$\n",
    "est une base de Gröbner universelle pour $I=\\langle x-y^2,xy-x\\rangle.$\n",
    "\n",
    "Pour le prouver, on observe que $\\mathrm{LT}(G)$ ne dépend que de l'ordre relatif de $x$ et $y^2$, en effet, à l'exclusion de $x-y^2$, tous les polynômes de $G$ ont un unique monôme divisible par tous les autres, qui se trouve donc être le monôme de tête dans tout ordre admissible. On a donc :\n",
    "\n",
    "$$\\langle \\mathrm{LM}(G) \\rangle = \\left \\{\n",
    "   \\begin{array}{l l }\n",
    "          \\langle x,y^3 \\rangle &\\text{si } x>y^2 \\\\\n",
    "         \\langle x^2,xy,y^2 \\rangle &\\text{sinon}.  \\\\\n",
    "   \\end{array}\n",
    "   \\right .$$\n",
    "\n",
    "Puisque $G\\subseteq I$, il est immédiat que $\\langle \\mathrm{LT}(G) \\rangle \\subset \\langle \\mathrm{LT}(I) \\rangle$ ; il reste donc à montrer l'inclusion inverse.\n",
    "\n",
    "Commençons par le cas $x>y^2$ et supposons que $\\langle \\mathrm{LT}(I) \\rangle \\not \\subset \\langle \\mathrm{LT}(G) \\rangle$, ceci implique qu'il existe un polynôme $ay^2+by+c \\in I$, avec $a,b,c$ non tous nuls. Mais il est facile de voir qu'un tel polynôme ne peut pas exister.\n",
    "\n",
    "De façon similaire, si $y^2>x$, on vérifie en regardant $G$ pour l'ordre invlex} qu'il n'existe pas de polynôme $ay+bx+c$ avec $a,b,c$ non tous nuls.\n",
    "\n",
    "Nous pouvons donc conclure que $\\langle \\mathrm{LT}(G) \\rangle = \\langle \\mathrm{LT}(I) \\rangle$ pour tout ordre admissible.\n"
   ]
  },
  {
   "cell_type": "code",
   "execution_count": null,
   "metadata": {},
   "outputs": [],
   "source": []
  }
 ],
 "metadata": {
  "kernelspec": {
   "display_name": "SageMath 8.1",
   "language": "",
   "name": "sagemath"
  },
  "language_info": {
   "codemirror_mode": {
    "name": "ipython",
    "version": 2
   },
   "file_extension": ".py",
   "mimetype": "text/x-python",
   "name": "python",
   "nbconvert_exporter": "python",
   "pygments_lexer": "ipython2",
   "version": "2.7.15rc1"
  }
 },
 "nbformat": 4,
 "nbformat_minor": 2
}
