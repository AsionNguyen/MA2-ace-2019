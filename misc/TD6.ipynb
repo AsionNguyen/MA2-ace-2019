{
 "cells": [
  {
   "cell_type": "markdown",
   "metadata": {},
   "source": [
    "### Exercice 9.5"
   ]
  },
  {
   "cell_type": "markdown",
   "metadata": {},
   "source": [
    "On cherche à déterminer la plus petite variété algébrique contenant toutes les solutions. Pour ça, on peut essayer de chasser les dénominateurs afin d’obtenir un système polynomial\n",
    "\\begin{align*}\n",
    "b(t)x  - a(t) &= 0 \\\\  \n",
    "d(t)y - c(t) &= 0.\n",
    "\\end{align*} \n",
    "Pour prendre en compte le fait que les $b(t), d(t)$ ne doivent pas s’annuler, on introduit une\n",
    "variable supplémentaire $z$ et on définit alors l’idéal\n",
    "$$J = (b(t)x  - a(t), d(t)y - c(t), 1 - zb(t)d(t) \\subset k[t,z, x, y].$$ \n",
    "On considère $J_2 = J \\cap k[x,y]$. On a que $V(J_2)$ est la plus petite variété de $k^2$ contenant la paramétrisation."
   ]
  },
  {
   "cell_type": "code",
   "execution_count": 2,
   "metadata": {},
   "outputs": [],
   "source": [
    "A.<u,v,w,x,y,z> = PolynomialRing(QQ, order = 'lex')"
   ]
  },
  {
   "cell_type": "code",
   "execution_count": 6,
   "metadata": {},
   "outputs": [],
   "source": [
    "I = A.ideal(v*x - u^2, u*y - v^2, z-u)"
   ]
  },
  {
   "cell_type": "code",
   "execution_count": 7,
   "metadata": {},
   "outputs": [],
   "source": [
    "G = I.groebner_basis()"
   ]
  },
  {
   "cell_type": "code",
   "execution_count": 8,
   "metadata": {},
   "outputs": [
    {
     "data": {
      "text/plain": [
       "[u - z, v^2 - y*z, v*x - z^2, v*z^2 - x*y*z, x^2*y*z - z^4]"
      ]
     },
     "execution_count": 8,
     "metadata": {},
     "output_type": "execute_result"
    }
   ],
   "source": [
    "G"
   ]
  },
  {
   "cell_type": "markdown",
   "metadata": {},
   "source": [
    "On obtient que $I_2 = I\\cap\\mathbb{R}[x,y,z] = \\langle x^2yz - z^4 \\rangle = \\langle z(x^2y - z^3) \\rangle$  et que $V(I_2) = V(z) \\cup V(x^2y - z^3)$. On voit donc que $V(I_2)$ contient un hyperplan $z = 0$ qui ne fait pas partie de la courbe paramétrée. Cela est dû au fait qu'on n'a pas ajouté d'équation pour interdire aux dénominateurs de s'annuler. On ajoute maintenant une équation pour interdire aux $u,v$ de s'annuler.\n"
   ]
  },
  {
   "cell_type": "code",
   "execution_count": 9,
   "metadata": {},
   "outputs": [],
   "source": [
    "I = A.ideal(v*x - u^2, u*y - v^2, z-u, 1-w*u*v)"
   ]
  },
  {
   "cell_type": "code",
   "execution_count": 10,
   "metadata": {},
   "outputs": [],
   "source": [
    "G = I.groebner_basis()"
   ]
  },
  {
   "cell_type": "code",
   "execution_count": 11,
   "metadata": {},
   "outputs": [
    {
     "data": {
      "text/plain": [
       "[u - z, v - w*y*z^2, w*x*y - 1, w*z^3 - x, x^2*y - z^3]"
      ]
     },
     "execution_count": 11,
     "metadata": {},
     "output_type": "execute_result"
    }
   ],
   "source": [
    "G"
   ]
  },
  {
   "cell_type": "code",
   "execution_count": 12,
   "metadata": {},
   "outputs": [
    {
     "data": {
      "text/plain": [
       "Ideal (x^2*y - z^3) of Multivariate Polynomial Ring in u, v, w, x, y, z over Rational Field"
      ]
     },
     "execution_count": 12,
     "metadata": {},
     "output_type": "execute_result"
    }
   ],
   "source": [
    "I.elimination_ideal([u,v,w])"
   ]
  },
  {
   "cell_type": "markdown",
   "metadata": {},
   "source": [
    "On voit maintenant que $I_3 = I\\cap k[x,y,z] = \\langle x^2y-z^3 \\rangle$ et donc $V(x^2y-z^3)$ est la variété déterminée par la parametrisation donnée. On peut remarquer que certains points, comme par exemple le point $(x,y,z) = (0,0,0)$ font partie de la clôture de Zariski, mais pas de la courbe paramétrée. En effet, certaines valeurs ne peuvent pas être remontées en une solution pour $(u,v,w)$."
   ]
  },
  {
   "cell_type": "code",
   "execution_count": 13,
   "metadata": {},
   "outputs": [],
   "source": [
    "A.<t,z,x,y> = PolynomialRing(QQ, order = 'lex')"
   ]
  },
  {
   "cell_type": "code",
   "execution_count": 15,
   "metadata": {},
   "outputs": [],
   "source": [
    "I = A.ideal(x - (t^2 + t + 1), y*(t^2 + 1) - (t^2-1), 1-z*(t^2+1))"
   ]
  },
  {
   "cell_type": "code",
   "execution_count": 16,
   "metadata": {},
   "outputs": [
    {
     "data": {
      "text/plain": [
       "Ideal (x^2*y^2 - 2*x^2*y + x^2 + 4*x*y - 4*x + y^2 + 3) of Multivariate Polynomial Ring in t, z, x, y over Rational Field"
      ]
     },
     "execution_count": 16,
     "metadata": {},
     "output_type": "execute_result"
    }
   ],
   "source": [
    "I.elimination_ideal([t,z])"
   ]
  },
  {
   "cell_type": "markdown",
   "metadata": {},
   "source": [
    "Ici, $V(x^2y^2 - 2x^2y + x^2 + 4xy - 4x + y^2 + 3)$ coïncide avec la courbe parametrée, puisque dans $\\mathbb{R}$ le seul denominateur qu'on a ne s'annule pas. "
   ]
  },
  {
   "cell_type": "markdown",
   "metadata": {},
   "source": [
    "### Exercice 9.6"
   ]
  },
  {
   "cell_type": "markdown",
   "metadata": {},
   "source": [
    "La surface d'un triangle est donnée par l'équation $D = (1/2)bh$ et on peut introduire deux équations issues du théorème de Pythagore:\n",
    "\\begin{align*}\n",
    "a^2 &= h^2 + t^2 \\\\\n",
    "c^2 &= h^2 + (b-t)^2\n",
    "\\end{align*}"
   ]
  },
  {
   "cell_type": "code",
   "execution_count": 17,
   "metadata": {},
   "outputs": [],
   "source": [
    "A.<h,t,D,a,b,c> = PolynomialRing(QQ, order = 'lex')"
   ]
  },
  {
   "cell_type": "code",
   "execution_count": 18,
   "metadata": {},
   "outputs": [],
   "source": [
    "I = A.ideal(D - 1/2*b*h, a^2 - h^2 - t^2, c^2 - h^2 - (b-t)^2)"
   ]
  },
  {
   "cell_type": "markdown",
   "metadata": {},
   "source": [
    "En éliminant toutes les variables à part $D$, $a,b$ et $c$ j'obtient une relation liant ces 4 quantités."
   ]
  },
  {
   "cell_type": "code",
   "execution_count": 19,
   "metadata": {},
   "outputs": [],
   "source": [
    "G = I.groebner_basis()"
   ]
  },
  {
   "cell_type": "code",
   "execution_count": 20,
   "metadata": {},
   "outputs": [
    {
     "data": {
      "text/plain": [
       "[h^2 + t^2 - a^2, h*D + 1/4*t*a^2 - 1/4*t*c^2 - 3/8*a^2*b + 1/8*b^3 - 1/8*b*c^2, h*a^2 - h*c^2 - 4*t*D + 2*D*b, h*b - 2*D, t*b - 1/2*a^2 - 1/2*b^2 + 1/2*c^2, D^2 + 1/16*a^4 - 1/8*a^2*b^2 - 1/8*a^2*c^2 + 1/16*b^4 - 1/8*b^2*c^2 + 1/16*c^4]"
      ]
     },
     "execution_count": 20,
     "metadata": {},
     "output_type": "execute_result"
    }
   ],
   "source": [
    "G"
   ]
  },
  {
   "cell_type": "code",
   "execution_count": 21,
   "metadata": {},
   "outputs": [],
   "source": [
    "f = G[-1]"
   ]
  },
  {
   "cell_type": "code",
   "execution_count": 22,
   "metadata": {},
   "outputs": [
    {
     "data": {
      "text/plain": [
       "D^2 + 1/16*a^4 - 1/8*a^2*b^2 - 1/8*a^2*c^2 + 1/16*b^4 - 1/8*b^2*c^2 + 1/16*c^4"
      ]
     },
     "execution_count": 22,
     "metadata": {},
     "output_type": "execute_result"
    }
   ],
   "source": [
    "f"
   ]
  },
  {
   "cell_type": "markdown",
   "metadata": {},
   "source": [
    "On factorise pour mieux voir."
   ]
  },
  {
   "cell_type": "code",
   "execution_count": 23,
   "metadata": {},
   "outputs": [
    {
     "data": {
      "text/plain": [
       "(1/16) * (-a + b - c) * (-a + b + c) * (a + b - c) * (a + b + c)"
      ]
     },
     "execution_count": 23,
     "metadata": {},
     "output_type": "execute_result"
    }
   ],
   "source": [
    "(f-D^2).factor()"
   ]
  },
  {
   "cell_type": "markdown",
   "metadata": {},
   "source": [
    "### Exercice 13.3"
   ]
  },
  {
   "cell_type": "code",
   "execution_count": 24,
   "metadata": {},
   "outputs": [],
   "source": [
    "A.<x,y> = QQ[]"
   ]
  },
  {
   "cell_type": "code",
   "execution_count": 25,
   "metadata": {},
   "outputs": [],
   "source": [
    "I = A.ideal(x^3*y, x*y^2)"
   ]
  },
  {
   "cell_type": "code",
   "execution_count": 26,
   "metadata": {},
   "outputs": [
    {
     "name": "stdout",
     "output_type": "stream",
     "text": [
      "s =  0 : [1]\n",
      "s =  1 : [1, y, x]\n",
      "s =  2 : [1, y, y^2, x, x*y, x^2]\n",
      "s =  3 : [1, y, y^2, y^3, x, x*y, x^2, x^2*y, x^3]\n",
      "s =  4 : [1, y, y^2, y^3, y^4, x, x*y, x^2, x^2*y, x^3, x^4]\n",
      "s =  5 : [1, y, y^2, y^3, y^4, y^5, x, x*y, x^2, x^2*y, x^3, x^4, x^5]\n",
      "s =  6 : [1, y, y^2, y^3, y^4, y^5, y^6, x, x*y, x^2, x^2*y, x^3, x^4, x^5, x^6]\n",
      "s =  7 : [1, y, y^2, y^3, y^4, y^5, y^6, y^7, x, x*y, x^2, x^2*y, x^3, x^4, x^5, x^6, x^7]\n",
      "s =  8 : [1, y, y^2, y^3, y^4, y^5, y^6, y^7, y^8, x, x*y, x^2, x^2*y, x^3, x^4, x^5, x^6, x^7, x^8]\n",
      "s =  9 : [1, y, y^2, y^3, y^4, y^5, y^6, y^7, y^8, y^9, x, x*y, x^2, x^2*y, x^3, x^4, x^5, x^6, x^7, x^8, x^9]\n"
     ]
    }
   ],
   "source": [
    "for s in range(10) :\n",
    "    print \"s = \", s, \":\", [x^i*y^j for i in range(10) for j in range(10) if i+j <= s and x^i*y^j not in I]"
   ]
  },
  {
   "cell_type": "markdown",
   "metadata": {},
   "source": [
    "On va maintenant compter le nombre d'éléments dans la liste pour chaque $s \\leq 10$."
   ]
  },
  {
   "cell_type": "code",
   "execution_count": 27,
   "metadata": {},
   "outputs": [
    {
     "name": "stdout",
     "output_type": "stream",
     "text": [
      "s =  0 : 1\n",
      "s =  1 : 3\n",
      "s =  2 : 6\n",
      "s =  3 : 9\n",
      "s =  4 : 11\n",
      "s =  5 : 13\n",
      "s =  6 : 15\n",
      "s =  7 : 17\n",
      "s =  8 : 19\n",
      "s =  9 : 21\n"
     ]
    }
   ],
   "source": [
    "for s in range(10) :\n",
    "    print \"s = \", s, \":\", len([x^i*y^j for i in range(10) for j in range(10) if i+j <= s and x^i*y^j not in I])"
   ]
  },
  {
   "cell_type": "markdown",
   "metadata": {},
   "source": [
    "On voit bien que pour tout $s \\ge 3$ j'ai $H(s) = 2s + 3$."
   ]
  },
  {
   "cell_type": "markdown",
   "metadata": {},
   "source": [
    "### Exercice 13.4"
   ]
  },
  {
   "cell_type": "code",
   "execution_count": 28,
   "metadata": {},
   "outputs": [],
   "source": [
    "A.<x,y,z> = QQ[]"
   ]
  },
  {
   "cell_type": "code",
   "execution_count": 29,
   "metadata": {},
   "outputs": [],
   "source": [
    "I = A.ideal(x^3*y*z^5, x*y^3*z^2)"
   ]
  },
  {
   "cell_type": "code",
   "execution_count": 31,
   "metadata": {},
   "outputs": [
    {
     "name": "stdout",
     "output_type": "stream",
     "text": [
      "s =  0 : 1\n",
      "s =  1 : 4\n",
      "s =  2 : 10\n",
      "s =  3 : 20\n",
      "s =  4 : 35\n",
      "s =  5 : 56\n",
      "s =  6 : 83\n",
      "s =  7 : 116\n",
      "s =  8 : 155\n",
      "s =  9 : 199\n",
      "s =  10 : 247\n",
      "s =  11 : 299\n",
      "s =  12 : 355\n",
      "s =  13 : 415\n",
      "s =  14 : 479\n"
     ]
    }
   ],
   "source": [
    "for s in range(15) :\n",
    "    print \"s = \", s, \":\", len([x^i*y^j*z^k for i in range(15) for j in range(15) for k in range(15) if i+j+k <= s and x^i*y^j*z^k not in I])"
   ]
  },
  {
   "cell_type": "markdown",
   "metadata": {},
   "source": [
    "On va appliquer l'interpolation de Lagrange pour calculer la fonction de Hilbert. Ici l'espace est de dimension $3$ on peut donc interpoler sur 4 points."
   ]
  },
  {
   "cell_type": "code",
   "execution_count": 32,
   "metadata": {},
   "outputs": [],
   "source": [
    "C.<s> = QQ[]"
   ]
  },
  {
   "cell_type": "code",
   "execution_count": 36,
   "metadata": {},
   "outputs": [],
   "source": [
    "H = C.lagrange_polynomial([(9, 199), (10, 247), (11, 299), (12, 355)])"
   ]
  },
  {
   "cell_type": "code",
   "execution_count": 37,
   "metadata": {},
   "outputs": [
    {
     "data": {
      "text/plain": [
       "2*s^2 + 10*s - 53"
      ]
     },
     "execution_count": 37,
     "metadata": {},
     "output_type": "execute_result"
    }
   ],
   "source": [
    "H"
   ]
  },
  {
   "cell_type": "markdown",
   "metadata": {},
   "source": [
    "On calcule $H(s)$ pour tout $s \\leq 15$."
   ]
  },
  {
   "cell_type": "code",
   "execution_count": 38,
   "metadata": {},
   "outputs": [
    {
     "data": {
      "text/plain": [
       "[-53, -41, -25, -5, 19, 47, 79, 115, 155, 199, 247, 299, 355, 415, 479]"
      ]
     },
     "execution_count": 38,
     "metadata": {},
     "output_type": "execute_result"
    }
   ],
   "source": [
    "[H(s) for s in range(15)]"
   ]
  },
  {
   "cell_type": "markdown",
   "metadata": {},
   "source": [
    "### Exercice 13.5"
   ]
  },
  {
   "cell_type": "code",
   "execution_count": 39,
   "metadata": {},
   "outputs": [],
   "source": [
    "A.<x1,x2,x3,x4> = QQ[]"
   ]
  },
  {
   "cell_type": "code",
   "execution_count": 40,
   "metadata": {},
   "outputs": [],
   "source": [
    "I = A.ideal(x1*x3, x1*x4^2, x2*x3, x2*x4^3)"
   ]
  },
  {
   "cell_type": "code",
   "execution_count": 41,
   "metadata": {},
   "outputs": [
    {
     "name": "stdout",
     "output_type": "stream",
     "text": [
      "s 0 : 1\n",
      "s 1 : 5\n",
      "s 2 : 13\n",
      "s 3 : 25\n",
      "s 4 : 40\n",
      "s 5 : 58\n",
      "s 6 : 79\n",
      "s 7 : 103\n",
      "s 8 : 130\n",
      "s 9 : 160\n",
      "s 10 : 193\n",
      "s 11 : 229\n",
      "s 12 : 268\n",
      "s 13 : 310\n",
      "s 14 : 355\n",
      "s 15 : 403\n",
      "s 16 : 454\n",
      "s 17 : 508\n",
      "s 18 : 565\n",
      "s 19 : 625\n"
     ]
    }
   ],
   "source": [
    "for s in range(20) :\n",
    "    print \"s\", s, \":\", len([x1^i*x2^j*x3^k*x4^l for i in range(20) for j in range(20) for k in range(20) for l in range(20) if i+j+k+l <= s and \n",
    "                           x1^i*x2^j*x3^k*x4^l not in I])"
   ]
  },
  {
   "cell_type": "code",
   "execution_count": 42,
   "metadata": {},
   "outputs": [],
   "source": [
    "C.<s> = QQ[]"
   ]
  },
  {
   "cell_type": "code",
   "execution_count": 43,
   "metadata": {},
   "outputs": [],
   "source": [
    "H = C.lagrange_polynomial([(4,40), (5,58), (6,79),(7,103), (8, 130)])"
   ]
  },
  {
   "cell_type": "code",
   "execution_count": 44,
   "metadata": {},
   "outputs": [
    {
     "data": {
      "text/plain": [
       "3/2*s^2 + 9/2*s - 2"
      ]
     },
     "execution_count": 44,
     "metadata": {},
     "output_type": "execute_result"
    }
   ],
   "source": [
    "H"
   ]
  },
  {
   "cell_type": "markdown",
   "metadata": {},
   "source": [
    "### Exercice 13.7"
   ]
  },
  {
   "cell_type": "code",
   "execution_count": 45,
   "metadata": {},
   "outputs": [],
   "source": [
    "A.<x,y,z> = PolynomialRing(QQ, order = 'deglex') "
   ]
  },
  {
   "cell_type": "code",
   "execution_count": 46,
   "metadata": {},
   "outputs": [],
   "source": [
    "I = A.ideal(x*z, x*y-1)"
   ]
  },
  {
   "cell_type": "code",
   "execution_count": 47,
   "metadata": {},
   "outputs": [],
   "source": [
    "G = I.groebner_basis()"
   ]
  },
  {
   "cell_type": "code",
   "execution_count": 48,
   "metadata": {},
   "outputs": [
    {
     "data": {
      "text/plain": [
       "[x*y - 1, z]"
      ]
     },
     "execution_count": 48,
     "metadata": {},
     "output_type": "execute_result"
    }
   ],
   "source": [
    "G"
   ]
  },
  {
   "cell_type": "markdown",
   "metadata": {},
   "source": [
    "On vient de calculer une base de Gröbner pour $I=\\left\\langle xz,xy-1 \\right\\rangle$ pour l'ordre *deglex*. On obtient $$G = \\{xy-1,z\\}.$$ Donc : $\\langle LT(I) \\rangle = \\langle xy, z \\rangle$.\n",
    "On a que \n",
    "\\begin{align*}\n",
    "\\mathbb{V}(\\langle LT(I)\\rangle &= \\mathbb{V}(xy, z) \\\\\n",
    "&= \\mathbb{V}(xy) \\cap \\mathbb{V}(z) \\\\\n",
    "&= (H_x \\cup H_y) \\cap H_z \\\\\n",
    "&= (H_x \\cap H_z) \\cup (H_y \\cap H_z) \\\\\n",
    "& = H_{xz} \\cup H_{yz}\n",
    "\\end{align*}\n",
    "où $H_{xz}$ est la droite $x = z = 0$ et $H_{yz}$ est la droite $y = z = 0$.\n",
    "\n",
    "On conclue alors que la dimension de $\\mathbb{V}(I)$ est $1$.\n",
    "\n",
    "On vérifie avec Sage."
   ]
  },
  {
   "cell_type": "code",
   "execution_count": 49,
   "metadata": {},
   "outputs": [
    {
     "data": {
      "text/plain": [
       "1"
      ]
     },
     "execution_count": 49,
     "metadata": {},
     "output_type": "execute_result"
    }
   ],
   "source": [
    "I.dimension()"
   ]
  },
  {
   "cell_type": "code",
   "execution_count": 50,
   "metadata": {},
   "outputs": [],
   "source": [
    "A.<x,y,z,w> = PolynomialRing(QQ, order = 'deglex')"
   ]
  },
  {
   "cell_type": "code",
   "execution_count": 51,
   "metadata": {},
   "outputs": [],
   "source": [
    "J = A.ideal(z*w - y^2, x*y - z^3)"
   ]
  },
  {
   "cell_type": "code",
   "execution_count": 52,
   "metadata": {},
   "outputs": [],
   "source": [
    "G = J.groebner_basis()"
   ]
  },
  {
   "cell_type": "code",
   "execution_count": 53,
   "metadata": {},
   "outputs": [
    {
     "data": {
      "text/plain": [
       "[z^3 - x*y, y^2 - z*w]"
      ]
     },
     "execution_count": 53,
     "metadata": {},
     "output_type": "execute_result"
    }
   ],
   "source": [
    "G"
   ]
  },
  {
   "cell_type": "markdown",
   "metadata": {},
   "source": [
    "On a utilisé la même technique et on a calculé une base de Gröbner pour $I$ avec l'ordre *deglex*. On obtient $$G = \\{z^3 - xy, y^2 - zw\\}.$$ Donc $\\langle LT(I) \\rangle = \\langle z^3, y^2 \\rangle$.\n",
    " On calcule :\n",
    " \\begin{align*}\n",
    "\\mathbb{V}(\\langle LT(I)\\rangle &= \\mathbb{V}(z^3, y^2) \\\\\n",
    "&= \\mathbb{V}(z^3) \\cap \\mathbb{V}(y^2) \\\\\n",
    "&= H_z \\cap H_y \\\\\n",
    "&= H_{yz}\n",
    "\\end{align*}\n",
    "On conclue alors que la dimension de $\\mathbb{V}(I)$ est $2$."
   ]
  },
  {
   "cell_type": "markdown",
   "metadata": {},
   "source": [
    "On vérifie avec Sage."
   ]
  },
  {
   "cell_type": "code",
   "execution_count": 55,
   "metadata": {},
   "outputs": [
    {
     "data": {
      "text/plain": [
       "2"
      ]
     },
     "execution_count": 55,
     "metadata": {},
     "output_type": "execute_result"
    }
   ],
   "source": [
    "J.dimension()"
   ]
  }
 ],
 "metadata": {
  "kernelspec": {
   "display_name": "SageMath 8.1",
   "language": "",
   "name": "sagemath"
  },
  "language_info": {
   "codemirror_mode": {
    "name": "ipython",
    "version": 2
   },
   "file_extension": ".py",
   "mimetype": "text/x-python",
   "name": "python",
   "nbconvert_exporter": "python",
   "pygments_lexer": "ipython2",
   "version": "2.7.15rc1"
  }
 },
 "nbformat": 4,
 "nbformat_minor": 2
}
