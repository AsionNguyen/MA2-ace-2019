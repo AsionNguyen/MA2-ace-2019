{
 "cells": [
  {
   "cell_type": "markdown",
   "metadata": {},
   "source": [
    "### Exercice 9.2"
   ]
  },
  {
   "cell_type": "markdown",
   "metadata": {},
   "source": [
    "On va s'intéresser dès le départ au cas $t = 1$."
   ]
  },
  {
   "cell_type": "code",
   "execution_count": 3,
   "metadata": {},
   "outputs": [],
   "source": [
    "A.<x,y,z> = PolynomialRing(QQ, order = 'lex')\n",
    "I = A.ideal(x+y-z, x^2-2, y^2-5)\n",
    "G = I.groebner_basis()"
   ]
  },
  {
   "cell_type": "code",
   "execution_count": 4,
   "metadata": {},
   "outputs": [
    {
     "data": {
      "text/plain": [
       "[x - 1/6*z^3 + 11/6*z, y + 1/6*z^3 - 17/6*z, z^4 - 14*z^2 + 9]"
      ]
     },
     "execution_count": 4,
     "metadata": {},
     "output_type": "execute_result"
    }
   ],
   "source": [
    "G"
   ]
  },
  {
   "cell_type": "code",
   "execution_count": 5,
   "metadata": {},
   "outputs": [
    {
     "data": {
      "text/plain": [
       "z^4 - 14*z^2 + 9"
      ]
     },
     "execution_count": 5,
     "metadata": {},
     "output_type": "execute_result"
    }
   ],
   "source": [
    "G[-1]"
   ]
  },
  {
   "cell_type": "markdown",
   "metadata": {},
   "source": [
    "Une racine de ce polynôme sera la somme d'une racine de $A = x^2 - 2$ et de $B = y^2 - 5$."
   ]
  },
  {
   "cell_type": "code",
   "execution_count": 6,
   "metadata": {},
   "outputs": [],
   "source": [
    "f = G[-1]"
   ]
  },
  {
   "cell_type": "code",
   "execution_count": 7,
   "metadata": {},
   "outputs": [],
   "source": [
    "f = (y-z)^2 - 2\n",
    "g = y^2 - 5"
   ]
  },
  {
   "cell_type": "code",
   "execution_count": 8,
   "metadata": {},
   "outputs": [],
   "source": [
    "h = f.resultant(g,y)"
   ]
  },
  {
   "cell_type": "code",
   "execution_count": 9,
   "metadata": {},
   "outputs": [
    {
     "data": {
      "text/plain": [
       "z^4 - 14*z^2 + 9"
      ]
     },
     "execution_count": 9,
     "metadata": {},
     "output_type": "execute_result"
    }
   ],
   "source": [
    "h"
   ]
  },
  {
   "cell_type": "markdown",
   "metadata": {},
   "source": [
    "On retrouve le même résultat."
   ]
  },
  {
   "cell_type": "markdown",
   "metadata": {},
   "source": [
    "Si on veut s'amuser, on peut aussi calculer le resultant à la main. \n",
    "On a que $f = (y - z)^2 - 2 = y^2 - 2zy + (z^2-2)$ et $g = y^2-5$.\n",
    "\n",
    "On a alors la matrice suivante :\n",
    "\n",
    "\\begin{eqnarray*} Res(f,g,y) &=& \\det \\begin{pmatrix}\n",
    "1& 0 & 1 & 0\\\\\n",
    "-2z & 1 & 0 & 1\\\\\n",
    "z^2-2 & -2z & -5 & 0\\\\ \n",
    "0 & z^2-2 & 0 & -5\\\\\n",
    "\\end{pmatrix} \\\\\n",
    "&=& \\det \\begin{pmatrix}\n",
    " 1 & 0 & 1\\\\\n",
    "-2z & -5 & 0\\\\ \n",
    "z^2-2 & 0 & -5\n",
    "\\end{pmatrix}  + \n",
    "\\det \\begin{pmatrix}\n",
    "-2z & 1  & 1\\\\\n",
    "z^2-2  & -2z & 0\\\\ \n",
    "0 & z^2-2 &  -5\\\\\n",
    "\\end{pmatrix}  \\\\\n",
    "&=& 25 + 5(z^2 - 2) -20z^2 + 5(z^2-2) + (z^2-2)(z^2-2) \\\\\n",
    "&=& 5  -10z^2  +  z^4 - 4z^2 + 4 \\\\\n",
    "&=& z^4 - 14z^2 + 9.\n",
    "\\end{eqnarray*}\n"
   ]
  },
  {
   "cell_type": "markdown",
   "metadata": {},
   "source": [
    "Pour la dernière question, il suffit d'exprimer $x = \\sqrt{2}$ et $y = \\sqrt{5}$ en fonction de $z = \\sqrt{2} + \\sqrt{5}$. Pour cela on peut regarder les autres polynômes de la base de Gröbner."
   ]
  },
  {
   "cell_type": "code",
   "execution_count": 10,
   "metadata": {},
   "outputs": [],
   "source": [
    "f = G[0]"
   ]
  },
  {
   "cell_type": "code",
   "execution_count": 11,
   "metadata": {},
   "outputs": [
    {
     "data": {
      "text/plain": [
       "x - 1/6*z^3 + 11/6*z"
      ]
     },
     "execution_count": 11,
     "metadata": {},
     "output_type": "execute_result"
    }
   ],
   "source": [
    "f"
   ]
  },
  {
   "cell_type": "code",
   "execution_count": 12,
   "metadata": {},
   "outputs": [
    {
     "data": {
      "text/plain": [
       "-1/6*(sqrt(5) + sqrt(2))^3 + x + 11/6*sqrt(5) + 11/6*sqrt(2)"
      ]
     },
     "execution_count": 12,
     "metadata": {},
     "output_type": "execute_result"
    }
   ],
   "source": [
    "f(z = sqrt(2) + sqrt(5))"
   ]
  },
  {
   "cell_type": "code",
   "execution_count": 13,
   "metadata": {},
   "outputs": [
    {
     "data": {
      "text/plain": [
       "x - sqrt(2)"
      ]
     },
     "execution_count": 13,
     "metadata": {},
     "output_type": "execute_result"
    }
   ],
   "source": [
    "f(z = sqrt(2) + sqrt(5)).expand()"
   ]
  },
  {
   "cell_type": "code",
   "execution_count": 14,
   "metadata": {},
   "outputs": [],
   "source": [
    "g = G[1]"
   ]
  },
  {
   "cell_type": "code",
   "execution_count": 16,
   "metadata": {},
   "outputs": [
    {
     "data": {
      "text/plain": [
       "y + 1/6*z^3 - 17/6*z"
      ]
     },
     "execution_count": 16,
     "metadata": {},
     "output_type": "execute_result"
    }
   ],
   "source": [
    "g"
   ]
  },
  {
   "cell_type": "code",
   "execution_count": 18,
   "metadata": {},
   "outputs": [
    {
     "data": {
      "text/plain": [
       "1/6*(sqrt(5) + sqrt(2))^3 + y - 17/6*sqrt(5) - 17/6*sqrt(2)"
      ]
     },
     "execution_count": 18,
     "metadata": {},
     "output_type": "execute_result"
    }
   ],
   "source": [
    "g(z = sqrt(2) + sqrt(5))"
   ]
  },
  {
   "cell_type": "markdown",
   "metadata": {},
   "source": [
    "### Exercice 9.3"
   ]
  },
  {
   "cell_type": "markdown",
   "metadata": {},
   "source": [
    "On suppose que $c = a + b$, où $a$ et $b$ sont tels que $A(a) = 0$ et $B(b) = 0$. En substituant $(X,Y) = (a,c)$ dans les polynômes $A(X)$ et $B(Y-X)$ on obtient\n",
    "$$A(a) = 0, B(c-a) = B(a+b-a) = B(b) = 0,$$\n",
    "on a que $(a,c)$ est une solution du système $A(X) = B(Y-X) = 0$. Inversement, si $(a,c)$ est une solution du système $A(X) = B(Y-X) = 0$. On pose $b = c-a$. Être une solution implique que \n",
    "$$A(a) = B(c-a) = 0 $$ et donc on voit bien que $A(a) = B(b) = 0$."
   ]
  },
  {
   "cell_type": "markdown",
   "metadata": {},
   "source": [
    "Il n'est pas compliqué de montrer que $c$ est une racine de Res$(A(X),B(Y-X),X)$ si et seulement si $c = a + b$, où $A(a) = 0$ et $B(b) = 0$. On applique maintenant cela à $A(X) = X^2-2$ et $B(X) = X^3-7$. On calcule donc le résultant Res$(A(X), B(Y-X), X) = $ Res$(X^2-2, (Y-X)^3-7, X)$ = Res($(X^2-2, -X^3 +3YX^2 - 3Y^2X + Y^3-7, X)$."
   ]
  },
  {
   "cell_type": "code",
   "execution_count": 20,
   "metadata": {},
   "outputs": [],
   "source": [
    "A.<x,y> = QQ[]"
   ]
  },
  {
   "cell_type": "code",
   "execution_count": 21,
   "metadata": {},
   "outputs": [],
   "source": [
    "f = x^2 - 2\n",
    "g = x^3 - 7"
   ]
  },
  {
   "cell_type": "code",
   "execution_count": 22,
   "metadata": {},
   "outputs": [],
   "source": [
    "h = f.resultant(g(x = y-x), x)"
   ]
  },
  {
   "cell_type": "code",
   "execution_count": 23,
   "metadata": {},
   "outputs": [
    {
     "data": {
      "text/plain": [
       "y^6 - 6*y^4 - 14*y^3 + 12*y^2 - 84*y + 41"
      ]
     },
     "execution_count": 23,
     "metadata": {},
     "output_type": "execute_result"
    }
   ],
   "source": [
    "h"
   ]
  },
  {
   "cell_type": "markdown",
   "metadata": {},
   "source": [
    "On vérifie que $2^{1/2} + 7^{1/3}$ est bien une racine de $h$."
   ]
  },
  {
   "cell_type": "code",
   "execution_count": 24,
   "metadata": {},
   "outputs": [
    {
     "data": {
      "text/plain": [
       "(sqrt(2) + 7^(1/3))^6 - 6*(sqrt(2) + 7^(1/3))^4 - 14*(sqrt(2) + 7^(1/3))^3 + 12*(sqrt(2) + 7^(1/3))^2 - 84*sqrt(2) - 84*7^(1/3) + 41"
      ]
     },
     "execution_count": 24,
     "metadata": {},
     "output_type": "execute_result"
    }
   ],
   "source": [
    "h(y = sqrt(2) + 7^(1/3))"
   ]
  },
  {
   "cell_type": "code",
   "execution_count": 25,
   "metadata": {},
   "outputs": [
    {
     "data": {
      "text/plain": [
       "0"
      ]
     },
     "execution_count": 25,
     "metadata": {},
     "output_type": "execute_result"
    }
   ],
   "source": [
    "h(y = sqrt(2) + 7^(1/3)).expand()"
   ]
  },
  {
   "cell_type": "markdown",
   "metadata": {},
   "source": [
    "### Exercice 9.4"
   ]
  },
  {
   "cell_type": "code",
   "execution_count": 26,
   "metadata": {},
   "outputs": [],
   "source": [
    "A.<x,y> = QQ[]"
   ]
  },
  {
   "cell_type": "code",
   "execution_count": 27,
   "metadata": {},
   "outputs": [],
   "source": [
    "f = x^4 + y^4 - 1\n",
    "g = x^5*y^2 - 4*x^3*y^3 + x^2*y^5 - 1"
   ]
  },
  {
   "cell_type": "code",
   "execution_count": 28,
   "metadata": {},
   "outputs": [],
   "source": [
    "h = f.resultant(g,y)"
   ]
  },
  {
   "cell_type": "code",
   "execution_count": 29,
   "metadata": {},
   "outputs": [
    {
     "data": {
      "text/plain": [
       "2*x^28 - 16*x^27 + 32*x^26 + 249*x^24 + 48*x^23 - 128*x^22 + 4*x^21 - 757*x^20 - 112*x^19 + 192*x^18 - 12*x^17 + 758*x^16 + 144*x^15 - 126*x^14 + 28*x^13 - 251*x^12 - 64*x^11 + 30*x^10 - 36*x^9 - x^8 + 16*x^5 + 1"
      ]
     },
     "execution_count": 29,
     "metadata": {},
     "output_type": "execute_result"
    }
   ],
   "source": [
    "h"
   ]
  },
  {
   "cell_type": "markdown",
   "metadata": {},
   "source": [
    "La projection de la variété sur l'axe des $x$ est composée de 28 points. "
   ]
  },
  {
   "cell_type": "code",
   "execution_count": 31,
   "metadata": {},
   "outputs": [
    {
     "data": {
      "text/plain": [
       "[]"
      ]
     },
     "execution_count": 31,
     "metadata": {},
     "output_type": "execute_result"
    }
   ],
   "source": [
    "h.univariate_polynomial().roots()"
   ]
  },
  {
   "cell_type": "markdown",
   "metadata": {},
   "source": [
    "Aucun de ces points n'est dans les rationnels."
   ]
  },
  {
   "cell_type": "code",
   "execution_count": 32,
   "metadata": {},
   "outputs": [
    {
     "data": {
      "text/plain": [
       "[(-0.924209668349044, 1),\n",
       " (-0.597428986963397, 1),\n",
       " (0.721113386166218, 1),\n",
       " (0.966506296874216, 1)]"
      ]
     },
     "execution_count": 32,
     "metadata": {},
     "output_type": "execute_result"
    }
   ],
   "source": [
    "h.univariate_polynomial().roots(RR)"
   ]
  },
  {
   "cell_type": "code",
   "execution_count": null,
   "metadata": {},
   "outputs": [],
   "source": [
    "Et comme on le voit seulement 4 sont réels. "
   ]
  },
  {
   "cell_type": "markdown",
   "metadata": {},
   "source": [
    "C'est plus simple de considèrer la liste des racines sans la multiplicité."
   ]
  },
  {
   "cell_type": "code",
   "execution_count": 33,
   "metadata": {},
   "outputs": [
    {
     "data": {
      "text/plain": [
       "[-0.924209668349044, -0.597428986963397, 0.721113386166218, 0.966506296874216]"
      ]
     },
     "execution_count": 33,
     "metadata": {},
     "output_type": "execute_result"
    }
   ],
   "source": [
    "h.univariate_polynomial().roots(RR, multiplicities = false)"
   ]
  },
  {
   "cell_type": "markdown",
   "metadata": {},
   "source": [
    "Pour alléger l'écriture on définit un polynôme $H$ qui égal $h$ mais vu comme polynôme univarié."
   ]
  },
  {
   "cell_type": "code",
   "execution_count": 34,
   "metadata": {},
   "outputs": [],
   "source": [
    "H = h.univariate_polynomial()"
   ]
  },
  {
   "cell_type": "code",
   "execution_count": 35,
   "metadata": {},
   "outputs": [
    {
     "data": {
      "text/plain": [
       "Univariate Polynomial Ring in x over Rational Field"
      ]
     },
     "execution_count": 35,
     "metadata": {},
     "output_type": "execute_result"
    }
   ],
   "source": [
    "H.parent()"
   ]
  },
  {
   "cell_type": "code",
   "execution_count": 36,
   "metadata": {},
   "outputs": [
    {
     "data": {
      "text/plain": [
       "Multivariate Polynomial Ring in x, y over Rational Field"
      ]
     },
     "execution_count": 36,
     "metadata": {},
     "output_type": "execute_result"
    }
   ],
   "source": [
    "h.parent()"
   ]
  },
  {
   "cell_type": "markdown",
   "metadata": {},
   "source": [
    "Pour chaque racine $r$ du résultant, on remplace $x = r$ dans les deux polynômes d'origine et on visualise leurs racines (vu comme polynômes univariés). On s'intéresse aux points communs."
   ]
  },
  {
   "cell_type": "code",
   "execution_count": 37,
   "metadata": {},
   "outputs": [
    {
     "name": "stdout",
     "output_type": "stream",
     "text": [
      "-0.924209668349044 [(-0.721113386166218, 1), (0.721113386166218, 1)]\n",
      "-0.597428986963397 [(-0.966506296874216, 1), (0.966506296874216, 1)]\n",
      "0.721113386166218 [(-0.924209668349044, 1), (0.924209668349044, 1)]\n",
      "0.966506296874216 [(-0.597428986963397, 1), (0.597428986963397, 1)]\n"
     ]
    }
   ],
   "source": [
    "for r in H.roots(RR, multiplicities=false) :\n",
    "    print r, f(y=r).univariate_polynomial().roots(RR)"
   ]
  },
  {
   "cell_type": "code",
   "execution_count": 38,
   "metadata": {},
   "outputs": [
    {
     "name": "stdout",
     "output_type": "stream",
     "text": [
      "-0.924209668349044 [(0.721113386166218, 1)]\n",
      "-0.597428986963397 [(0.966506296874216, 1)]\n",
      "0.721113386166218 [(-1.63522612855497, 1), (-0.924209668349044, 1), (1.74160318999678, 1)]\n",
      "0.966506296874216 [(-2.04507691212831, 1), (-0.597428986963397, 1), (1.88331929776419, 1)]\n"
     ]
    }
   ],
   "source": [
    "for r in H.roots(RR, multiplicities=false) :\n",
    "    print r, g(y=r).univariate_polynomial().roots(RR)"
   ]
  },
  {
   "cell_type": "markdown",
   "metadata": {},
   "source": [
    "En observant les racines de ces deux polynômes, on voit qu'ils ont 4 points en commun :\n",
    "\n",
    "$$(-0.924209668349044, 0.721113386166218)$$\n",
    "$$(-0.597428986963397, 0.966506296874216)$$\n",
    "$$(0.721113386166218, -0.924209668349044)$$\n",
    "$$(0.966506296874216, -0.597428986963397)$$\n",
    "\n",
    "On peut déssiner les deux courbes avec *implicit_plot* et visualiser leurs 4 points d'intersection dans $\\mathbb{R}^2$."
   ]
  },
  {
   "cell_type": "code",
   "execution_count": 43,
   "metadata": {},
   "outputs": [
    {
     "data": {
      "image/png": "[encoded data removed]",
      "text/plain": [
       "Graphics object consisting of 2 graphics primitives"
      ]
     },
     "execution_count": 43,
     "metadata": {},
     "output_type": "execute_result"
    }
   ],
   "source": [
    "implicit_plot(f, (x, -4, 4), (y, -4, 4), color = 'red') + implicit_plot(g, (x,-4,4), (y, -4,4))"
   ]
  },
  {
   "cell_type": "markdown",
   "metadata": {},
   "source": [
    "### Exercice 11.2"
   ]
  },
  {
   "cell_type": "code",
   "execution_count": 44,
   "metadata": {},
   "outputs": [],
   "source": [
    "A.<x,y> = PolynomialRing(QQ, order = 'lex')"
   ]
  },
  {
   "cell_type": "code",
   "execution_count": 45,
   "metadata": {},
   "outputs": [],
   "source": [
    "I = A.ideal(x^2 + 2*y^2 - 3, x^2 + x*y + y^2 - 3)"
   ]
  },
  {
   "cell_type": "code",
   "execution_count": 46,
   "metadata": {},
   "outputs": [],
   "source": [
    "G = I.groebner_basis()"
   ]
  },
  {
   "cell_type": "code",
   "execution_count": 47,
   "metadata": {},
   "outputs": [
    {
     "data": {
      "text/plain": [
       "[x^2 + 2*y^2 - 3, x*y - y^2, y^3 - y]"
      ]
     },
     "execution_count": 47,
     "metadata": {},
     "output_type": "execute_result"
    }
   ],
   "source": [
    "G"
   ]
  },
  {
   "cell_type": "code",
   "execution_count": 48,
   "metadata": {},
   "outputs": [],
   "source": [
    "J = I.change_ring(A.change_ring(names = 'y,x'))"
   ]
  },
  {
   "cell_type": "code",
   "execution_count": 49,
   "metadata": {},
   "outputs": [],
   "source": [
    "G1 = J.groebner_basis()"
   ]
  },
  {
   "cell_type": "code",
   "execution_count": 50,
   "metadata": {},
   "outputs": [
    {
     "data": {
      "text/plain": [
       "[y + 1/2*x^3 - 3/2*x, x^4 - 4*x^2 + 3]"
      ]
     },
     "execution_count": 50,
     "metadata": {},
     "output_type": "execute_result"
    }
   ],
   "source": [
    "G1"
   ]
  },
  {
   "cell_type": "markdown",
   "metadata": {},
   "source": [
    "On obtient alors qu'une base pour $I\\cap k[x]$ est $\\{x^4-4x^2+3\\}$ et qu'une base pour $I\\cap k[y]$ est $\\{y^3-y\\}.$"
   ]
  },
  {
   "cell_type": "markdown",
   "metadata": {},
   "source": [
    "On doit maintenant calculer les solutions du système. Pour cela, on peut partir des solutions pour $y$ pour retrouver des valeurs pour $x$."
   ]
  },
  {
   "cell_type": "code",
   "execution_count": 57,
   "metadata": {},
   "outputs": [
    {
     "data": {
      "text/plain": [
       "y * (y - 1) * (y + 1)"
      ]
     },
     "execution_count": 57,
     "metadata": {},
     "output_type": "execute_result"
    }
   ],
   "source": [
    "f = G[-1]\n",
    "f.factor()"
   ]
  },
  {
   "cell_type": "markdown",
   "metadata": {},
   "source": [
    "On voit donc que les solutions pour $y$ sont $0, \\pm 1$."
   ]
  },
  {
   "cell_type": "code",
   "execution_count": 58,
   "metadata": {},
   "outputs": [
    {
     "data": {
      "text/plain": [
       "x - 1"
      ]
     },
     "execution_count": 58,
     "metadata": {},
     "output_type": "execute_result"
    }
   ],
   "source": [
    "G[-2](y = 1)"
   ]
  },
  {
   "cell_type": "code",
   "execution_count": 59,
   "metadata": {},
   "outputs": [
    {
     "data": {
      "text/plain": [
       "-x - 1"
      ]
     },
     "execution_count": 59,
     "metadata": {},
     "output_type": "execute_result"
    }
   ],
   "source": [
    "G[-2](y = -1)"
   ]
  },
  {
   "cell_type": "code",
   "execution_count": 61,
   "metadata": {},
   "outputs": [
    {
     "data": {
      "text/plain": [
       "x^2 - 3"
      ]
     },
     "execution_count": 61,
     "metadata": {},
     "output_type": "execute_result"
    }
   ],
   "source": [
    "G[0](y = 0)"
   ]
  },
  {
   "cell_type": "markdown",
   "metadata": {},
   "source": [
    "On conclue qu'on a 4 solutions $$(x,y) = \\{(1,1), (-1,-1), (\\sqrt{3}, 0),  (-\\sqrt{3}, 0)\\}.$$ On peut les visualiser."
   ]
  },
  {
   "cell_type": "code",
   "execution_count": 64,
   "metadata": {},
   "outputs": [
    {
     "data": {
      "image/png": "[encoded data removed]",
      "text/plain": [
       "Graphics object consisting of 2 graphics primitives"
      ]
     },
     "execution_count": 64,
     "metadata": {},
     "output_type": "execute_result"
    }
   ],
   "source": [
    "implicit_plot(x^2 + 2*y^2 - 3, (x, -5, 5), (y, -5, 5), color = 'red') + implicit_plot(x^2 + x*y + y^2 - 3, (x, -5, 5), (y, -5, 5))"
   ]
  },
  {
   "cell_type": "markdown",
   "metadata": {},
   "source": [
    "### Exercice 11.3"
   ]
  },
  {
   "cell_type": "code",
   "execution_count": 66,
   "metadata": {},
   "outputs": [],
   "source": [
    "A.<x,y,z> = PolynomialRing(QQ, order = 'lex')"
   ]
  },
  {
   "cell_type": "code",
   "execution_count": 70,
   "metadata": {},
   "outputs": [],
   "source": [
    "I = A.ideal(x^2 + y^2 + z^2 - 4, x^2 + 2*y^2 - 5, x*z - 1)"
   ]
  },
  {
   "cell_type": "code",
   "execution_count": 71,
   "metadata": {},
   "outputs": [],
   "source": [
    "G = I.groebner_basis()"
   ]
  },
  {
   "cell_type": "code",
   "execution_count": 72,
   "metadata": {},
   "outputs": [
    {
     "data": {
      "text/plain": [
       "[x + 2*z^3 - 3*z, y^2 - z^2 - 1, z^4 - 3/2*z^2 + 1/2]"
      ]
     },
     "execution_count": 72,
     "metadata": {},
     "output_type": "execute_result"
    }
   ],
   "source": [
    "G"
   ]
  },
  {
   "cell_type": "markdown",
   "metadata": {},
   "source": [
    "On a donc que $I_1 = I \\cap \\mathbb{Q}[y,z] = \\langle y^2 - z^2 - 1, z^4 - \\frac{3}{2}z^2 + \\frac{1}{2}\\rangle$ et que $I_2 = I \\cap \\mathbb{Q}[z] = \\langle z^4 - \\frac{3}{2}z^2 + \\frac{1}{2}\\rangle$."
   ]
  },
  {
   "cell_type": "code",
   "execution_count": 73,
   "metadata": {},
   "outputs": [
    {
     "data": {
      "text/plain": [
       "(1/2) * (z - 1) * (z + 1) * (2*z^2 - 1)"
      ]
     },
     "execution_count": 73,
     "metadata": {},
     "output_type": "execute_result"
    }
   ],
   "source": [
    "G[-1].factor()"
   ]
  },
  {
   "cell_type": "markdown",
   "metadata": {},
   "source": [
    "On a deux solutions rationnelles pour $z^4 - 3/2z^2 + 1/2$ : $z = \\pm 1$ et 4 solutions en tout : $\\{\\pm 1, \\pm 1/\\sqrt{2}\\}.$"
   ]
  },
  {
   "cell_type": "code",
   "execution_count": 74,
   "metadata": {},
   "outputs": [
    {
     "data": {
      "text/plain": [
       "y^2 - 2"
      ]
     },
     "execution_count": 74,
     "metadata": {},
     "output_type": "execute_result"
    }
   ],
   "source": [
    "G[1](z = 1)"
   ]
  },
  {
   "cell_type": "code",
   "execution_count": 75,
   "metadata": {},
   "outputs": [
    {
     "data": {
      "text/plain": [
       "y^2 - 2"
      ]
     },
     "execution_count": 75,
     "metadata": {},
     "output_type": "execute_result"
    }
   ],
   "source": [
    "G[1](z = -1)"
   ]
  },
  {
   "cell_type": "markdown",
   "metadata": {},
   "source": [
    "Ce système n'a pas de solutions rationnelles. On peut le vérifier aussi d'une autre façon :"
   ]
  },
  {
   "cell_type": "code",
   "execution_count": 76,
   "metadata": {},
   "outputs": [
    {
     "data": {
      "text/plain": [
       "[]"
      ]
     },
     "execution_count": 76,
     "metadata": {},
     "output_type": "execute_result"
    }
   ],
   "source": [
    "I.variety()"
   ]
  },
  {
   "cell_type": "markdown",
   "metadata": {},
   "source": [
    "On s'intéresse maintenant aux solutions dans $\\mathbb{C}^3$.\n"
   ]
  },
  {
   "cell_type": "code",
   "execution_count": 77,
   "metadata": {},
   "outputs": [
    {
     "data": {
      "text/plain": [
       "x - 1"
      ]
     },
     "execution_count": 77,
     "metadata": {},
     "output_type": "execute_result"
    }
   ],
   "source": [
    "G[0](z=1,y=sqrt(2))"
   ]
  },
  {
   "cell_type": "code",
   "execution_count": 78,
   "metadata": {},
   "outputs": [
    {
     "data": {
      "text/plain": [
       "x - 1"
      ]
     },
     "execution_count": 78,
     "metadata": {},
     "output_type": "execute_result"
    }
   ],
   "source": [
    "G[0](z=1,y=-sqrt(2))"
   ]
  },
  {
   "cell_type": "code",
   "execution_count": 79,
   "metadata": {},
   "outputs": [
    {
     "data": {
      "text/plain": [
       "x + 1"
      ]
     },
     "execution_count": 79,
     "metadata": {},
     "output_type": "execute_result"
    }
   ],
   "source": [
    "G[0](z=-1,y=sqrt(2))"
   ]
  },
  {
   "cell_type": "code",
   "execution_count": 80,
   "metadata": {},
   "outputs": [
    {
     "data": {
      "text/plain": [
       "x + 1"
      ]
     },
     "execution_count": 80,
     "metadata": {},
     "output_type": "execute_result"
    }
   ],
   "source": [
    "G[0](z=-1,y=-sqrt(2))"
   ]
  },
  {
   "cell_type": "code",
   "execution_count": 81,
   "metadata": {},
   "outputs": [
    {
     "data": {
      "text/plain": [
       "y^2 - 3/2"
      ]
     },
     "execution_count": 81,
     "metadata": {},
     "output_type": "execute_result"
    }
   ],
   "source": [
    "G[1](z = 1/sqrt(2))"
   ]
  },
  {
   "cell_type": "code",
   "execution_count": 82,
   "metadata": {},
   "outputs": [
    {
     "data": {
      "text/plain": [
       "y^2 - 3/2"
      ]
     },
     "execution_count": 82,
     "metadata": {},
     "output_type": "execute_result"
    }
   ],
   "source": [
    "G[1](z = -1/sqrt(2))"
   ]
  },
  {
   "cell_type": "code",
   "execution_count": 83,
   "metadata": {},
   "outputs": [
    {
     "data": {
      "text/plain": [
       "x - sqrt(2)"
      ]
     },
     "execution_count": 83,
     "metadata": {},
     "output_type": "execute_result"
    }
   ],
   "source": [
    "G[0](z = 1/sqrt(2), y = sqrt(3/2))"
   ]
  },
  {
   "cell_type": "markdown",
   "metadata": {},
   "source": [
    "On peut continuer de cette même façon pour trouver toutes les solutions. Autrement, on peut les voir directement avec la commande *I.variety()*."
   ]
  },
  {
   "cell_type": "code",
   "execution_count": 84,
   "metadata": {},
   "outputs": [],
   "source": [
    "A.<x,y,z> = PolynomialRing(CC, order = 'lex')"
   ]
  },
  {
   "cell_type": "code",
   "execution_count": 85,
   "metadata": {},
   "outputs": [],
   "source": [
    "I = A.ideal(x^2 + y^2 + z^2 - 4, x^2 + 2*y^2 - 5, x*z - 1)"
   ]
  },
  {
   "cell_type": "code",
   "execution_count": 86,
   "metadata": {},
   "outputs": [
    {
     "name": "stdout",
     "output_type": "stream",
     "text": [
      "verbose 0 (2088: multi_polynomial_ideal.py, variety) Warning: computations in the complex field are inexact; variety may be computed partially or incorrectly.\n",
      "verbose 0 (2088: multi_polynomial_ideal.py, variety) Warning: falling back to very slow toy implementation.\n"
     ]
    },
    {
     "data": {
      "text/plain": [
       "[{y: -1.41421356237310, z: -1.00000000000000, x: -1.00000000000000},\n",
       " {y: 1.41421356237310, z: -1.00000000000000, x: -1.00000000000000},\n",
       " {y: -1.22474487139159, z: -0.707106781186548, x: -1.41421356237310},\n",
       " {y: 1.22474487139159, z: -0.707106781186548, x: -1.41421356237310},\n",
       " {y: -1.22474487139159, z: 0.707106781186548, x: 1.41421356237310},\n",
       " {y: 1.22474487139159, z: 0.707106781186548, x: 1.41421356237310},\n",
       " {y: -1.41421356237310, z: 1.00000000000000, x: 1.00000000000000},\n",
       " {y: 1.41421356237310, z: 1.00000000000000, x: 1.00000000000000}]"
      ]
     },
     "execution_count": 86,
     "metadata": {},
     "output_type": "execute_result"
    }
   ],
   "source": [
    "I.variety()"
   ]
  },
  {
   "cell_type": "markdown",
   "metadata": {},
   "source": [
    "Même calcul qu'avant mais sans avoir besoin de changer d'anneau de base. "
   ]
  },
  {
   "cell_type": "code",
   "execution_count": 88,
   "metadata": {},
   "outputs": [],
   "source": [
    "A.<x,y,z> = PolynomialRing(QQ, order = 'lex')"
   ]
  },
  {
   "cell_type": "code",
   "execution_count": 89,
   "metadata": {},
   "outputs": [],
   "source": [
    "I = A.ideal(x^2 + y^2 + z^2 - 4, x^2 + 2*y^2 - 5, x*z - 1)"
   ]
  },
  {
   "cell_type": "code",
   "execution_count": 90,
   "metadata": {},
   "outputs": [
    {
     "data": {
      "text/plain": [
       "[{z: -1, y: -1.414213562373095?, x: -1},\n",
       " {z: -1, y: 1.414213562373095?, x: -1},\n",
       " {z: -0.7071067811865475?, y: -1.224744871391589?, x: -1.414213562373095?},\n",
       " {z: -0.7071067811865475?, y: 1.224744871391589?, x: -1.414213562373095?},\n",
       " {z: 0.7071067811865475?, y: -1.224744871391589?, x: 1.414213562373095?},\n",
       " {z: 0.7071067811865475?, y: 1.224744871391589?, x: 1.414213562373095?},\n",
       " {z: 1, y: -1.414213562373095?, x: 1},\n",
       " {z: 1, y: 1.414213562373095?, x: 1}]"
      ]
     },
     "execution_count": 90,
     "metadata": {},
     "output_type": "execute_result"
    }
   ],
   "source": [
    "I.variety(QQbar)"
   ]
  },
  {
   "cell_type": "markdown",
   "metadata": {},
   "source": [
    "### Exercice 10.4"
   ]
  },
  {
   "cell_type": "markdown",
   "metadata": {},
   "source": [
    "L'astuce consiste à ajouter des variables represenant $sin(u),cos(u),sin(t),cos(t)$, et les relations algébriques connues entre elles qu'il faut, afin d'exprimer les différents termes qui apparaîssent en fonction des 4 variables $sin(u),cos(u),sin(t),cos(t)$."
   ]
  },
  {
   "cell_type": "code",
   "execution_count": 42,
   "metadata": {},
   "outputs": [],
   "source": [
    "A.<cosu, sinu, cost, sint, x, y, z> = PolynomialRing(QQ, order = 'lex')"
   ]
  },
  {
   "cell_type": "markdown",
   "metadata": {},
   "source": [
    "On sait notamment que $cos^2(u) + sin^2(u) = 1$ et que $cos^2(t) + sin^2(t) = 1$."
   ]
  },
  {
   "cell_type": "code",
   "execution_count": 43,
   "metadata": {},
   "outputs": [],
   "source": [
    "I = A.ideal(x - (2+cosu)*cost, y - (2+cosu)*sint, z - sinu, cosu^2 + sinu^2 - 1, cost^2 + sint^2 - 1)"
   ]
  },
  {
   "cell_type": "code",
   "execution_count": 44,
   "metadata": {},
   "outputs": [],
   "source": [
    "GS = I.groebner_basis()"
   ]
  },
  {
   "cell_type": "code",
   "execution_count": 35,
   "metadata": {},
   "outputs": [
    {
     "data": {
      "text/plain": [
       "[cosu - 1/4*x^2 - 1/4*y^2 - 1/4*z^2 + 5/4, sinu - z, cost^2 + sint^2 - 1, cost*x + sint*y - 1/4*x^2 - 1/4*y^2 - 1/4*z^2 - 3/4, cost*y - sint*x, cost*z^2 + 3*cost + 1/4*x^3 + 1/4*x*y^2 + 1/4*x*z^2 - 13/4*x, sint*x^2 + sint*y^2 - 1/4*x^2*y - 1/4*y^3 - 1/4*y*z^2 - 3/4*y, sint*z^2 + 3*sint + 1/4*x^2*y + 1/4*y^3 + 1/4*y*z^2 - 13/4*y, x^4 + 2*x^2*y^2 + 2*x^2*z^2 - 10*x^2 + y^4 + 2*y^2*z^2 - 10*y^2 + z^4 + 6*z^2 + 9]"
      ]
     },
     "execution_count": 35,
     "metadata": {},
     "output_type": "execute_result"
    }
   ],
   "source": [
    "GS"
   ]
  },
  {
   "cell_type": "code",
   "execution_count": 36,
   "metadata": {},
   "outputs": [
    {
     "data": {
      "text/plain": [
       "x^4 + 2*x^2*y^2 + 2*x^2*z^2 - 10*x^2 + y^4 + 2*y^2*z^2 - 10*y^2 + z^4 + 6*z^2 + 9"
      ]
     },
     "execution_count": 36,
     "metadata": {},
     "output_type": "execute_result"
    }
   ],
   "source": [
    "GS[-1]"
   ]
  },
  {
   "cell_type": "markdown",
   "metadata": {},
   "source": [
    "On peut dessiner la surface avec *implicit_plot3d()*. Mais attention à passer d'abord dans un anneau de 3 variables et voir GS[-1] comme un élément de ce nouvel anneau (sinon ça va être compliqué de dessiner des objets dans un espace de dimension 7)."
   ]
  },
  {
   "cell_type": "code",
   "execution_count": 45,
   "metadata": {},
   "outputs": [],
   "source": [
    "B.<x,y,z> = QQ[]"
   ]
  },
  {
   "cell_type": "code",
   "execution_count": 38,
   "metadata": {},
   "outputs": [
    {
     "data": {
      "image/png": "[encoded data removed]",
      "text/plain": [
       "Graphics3d Object"
      ]
     },
     "execution_count": 38,
     "metadata": {},
     "output_type": "execute_result"
    }
   ],
   "source": [
    "implicit_plot3d(B(GS[-1]), (x, -5, 5), (y, -5, 5), (z, -5, 5), viewer = 'tachyon')"
   ]
  },
  {
   "cell_type": "markdown",
   "metadata": {},
   "source": [
    "Pour la deuxième partie, on utilise la même astuce. Il faut donc trouver les relations algébriques entre $sin(2s),sin(3s)$, etc. On peut utiliser pour le cela le calcul symbolique de Sage. "
   ]
  },
  {
   "cell_type": "code",
   "execution_count": 46,
   "metadata": {},
   "outputs": [
    {
     "data": {
      "text/plain": [
       "s"
      ]
     },
     "execution_count": 46,
     "metadata": {},
     "output_type": "execute_result"
    }
   ],
   "source": [
    "var('s')"
   ]
  },
  {
   "cell_type": "code",
   "execution_count": 20,
   "metadata": {},
   "outputs": [],
   "source": [
    "expr = cos(2*s)"
   ]
  },
  {
   "cell_type": "code",
   "execution_count": 21,
   "metadata": {},
   "outputs": [
    {
     "data": {
      "text/plain": [
       "2*cos(s)^2 - 1"
      ]
     },
     "execution_count": 21,
     "metadata": {},
     "output_type": "execute_result"
    }
   ],
   "source": [
    "expr.simplify_trig()"
   ]
  },
  {
   "cell_type": "markdown",
   "metadata": {},
   "source": [
    "On peut définir toutes les relations d'un coup."
   ]
  },
  {
   "cell_type": "code",
   "execution_count": 22,
   "metadata": {},
   "outputs": [
    {
     "data": {
      "text/plain": [
       "[cos(2*s) == 2*cos(s)^2 - 1,\n",
       " sin(2*s) == 2*cos(s)*sin(s),\n",
       " cos(3*s) == 4*cos(s)^3 - 3*cos(s),\n",
       " sin(3*s) == (4*cos(s)^2 - 1)*sin(s)]"
      ]
     },
     "execution_count": 22,
     "metadata": {},
     "output_type": "execute_result"
    }
   ],
   "source": [
    "[trig(n*s) == trig(n*s).simplify_trig() for n in [2,3] for trig in [cos, sin]]"
   ]
  },
  {
   "cell_type": "markdown",
   "metadata": {},
   "source": [
    "On définit alors l'idéal et l'anneau."
   ]
  },
  {
   "cell_type": "code",
   "execution_count": 47,
   "metadata": {},
   "outputs": [],
   "source": [
    "A.<cos2s,sin2s,cos3s,sin3s,coss,sins,x,y,z> = PolynomialRing(QQ, order = 'lex')"
   ]
  },
  {
   "cell_type": "code",
   "execution_count": 61,
   "metadata": {},
   "outputs": [],
   "source": [
    "C = A.ideal(x - (2 + cos2s)*cos3s,\n",
    "            y - (2 + cos2s)*sin3s,\n",
    "            z - sin2s,\n",
    "            coss^2 + sins^2 - 1,\n",
    "            cos2s - 2*coss^2 + 1,\n",
    "            sin2s - 2*coss*sins,\n",
    "            cos3s - 4*coss^3 + 3*coss,\n",
    "            sin3s - (4*coss^2 - 1)*sins)"
   ]
  },
  {
   "cell_type": "code",
   "execution_count": 62,
   "metadata": {},
   "outputs": [],
   "source": [
    "GC = C.groebner_basis()"
   ]
  },
  {
   "cell_type": "code",
   "execution_count": 63,
   "metadata": {},
   "outputs": [
    {
     "data": {
      "text/plain": [
       "[cos2s + 18/25*x*y*z^3 - 187/50*x*y*z - 72/25*y^2*z^2 + 2*y^2 - 36/25*z^8 - 182/25*z^6 - 101/20*z^4 + 1049/100*z^2 - 1, sin2s - z, cos3s + 5/3*sins*z - 2/3*x*z^6 + 23/6*x*z^4 - 11/6*x*z^2 - 1/3*x - 1/3*y^3*z - 8/3*y*z^5 + 3*y*z^3 + y*z, sin3s + 3*sins - 2*x*z^5 + 23/2*x*z^3 - 11/2*x*z - y^3 - 8*y*z^4 + 9*y*z^2 + 3*y, coss - 1/3*sins*z - 2/3*x*z^6 + 23/6*x*z^4 - 11/6*x*z^2 - 1/3*x - 1/3*y^3*z - 8/3*y*z^5 + 3*y*z^3 + y*z, sins^2 - 9/25*x*y*z^3 + 187/100*x*y*z + 36/25*y^2*z^2 - y^2 + 18/25*z^8 + 91/25*z^6 + 101/40*z^4 - 1049/200*z^2, sins*x + 3/50*x*y*z^2 - 27/100*x*y - 6/25*y^2*z - 3/25*z^7 - 69/100*z^5 - 11/40*z^3 + 429/200*z, sins*y + 2/5*x*y*z^3 - 41/20*x*y*z - 8/5*y^2*z^2 + y^2 - 4/5*z^8 - 41/10*z^6 - 27/8*z^4 + 207/40*z^2, sins*z^2 + 3*sins - 5/2*x*z^5 + 115/8*x*z^3 - 55/8*x*z - 5/4*y^3 - 10*y*z^4 + 45/4*y*z^2 + 17/4*y, x^2 + 72/25*x*y*z^3 - 374/25*x*y*z - 288/25*y^2*z^2 + 9*y^2 - 144/25*z^8 - 728/25*z^6 - 101/5*z^4 + 1074/25*z^2 - 9, x*y^2 - 4*x*z^6 + 31*x*z^4 - 21*x*z^2 - 2*y^3*z - 18*y*z^5 + 59/2*y*z^3 + 1/2*y*z, x*y*z^4 - 21/4*x*y*z^2 + 1/4*x*y - 4*y^2*z^3 + 3*y^2*z - 2*z^9 - 10*z^7 - 51/8*z^5 + 63/4*z^3 - 27/8*z, x*z^7 - 6*x*z^5 + 67/16*x*z^3 - 3/16*x*z + 1/2*y^3*z^2 - 1/8*y^3 + 4*y*z^6 - 11/2*y*z^4 - 3/8*y*z^2 + 1/8*y, y^4 + 16*y^2*z^4 - 19*y^2*z^2 - y^2 + 4*z^10 + 18*z^8 + 9/4*z^6 - 81/2*z^4 + 81/4*z^2]"
      ]
     },
     "execution_count": 63,
     "metadata": {},
     "output_type": "execute_result"
    }
   ],
   "source": [
    "GC"
   ]
  },
  {
   "cell_type": "markdown",
   "metadata": {},
   "source": [
    " Ici, nous ne pouvons pas nous limiter à prendre le dernier polynôme de la base :  en effet, les 5 derniers polynômes ne font intervenir que les variables $x,y,z$. L'ideal implicitant la courbe $C$ est donc"
   ]
  },
  {
   "cell_type": "code",
   "execution_count": 64,
   "metadata": {},
   "outputs": [
    {
     "data": {
      "text/plain": [
       "[x^2 + 72/25*x*y*z^3 - 374/25*x*y*z - 288/25*y^2*z^2 + 9*y^2 - 144/25*z^8 - 728/25*z^6 - 101/5*z^4 + 1074/25*z^2 - 9, x*y^2 - 4*x*z^6 + 31*x*z^4 - 21*x*z^2 - 2*y^3*z - 18*y*z^5 + 59/2*y*z^3 + 1/2*y*z, x*y*z^4 - 21/4*x*y*z^2 + 1/4*x*y - 4*y^2*z^3 + 3*y^2*z - 2*z^9 - 10*z^7 - 51/8*z^5 + 63/4*z^3 - 27/8*z, x*z^7 - 6*x*z^5 + 67/16*x*z^3 - 3/16*x*z + 1/2*y^3*z^2 - 1/8*y^3 + 4*y*z^6 - 11/2*y*z^4 - 3/8*y*z^2 + 1/8*y, y^4 + 16*y^2*z^4 - 19*y^2*z^2 - y^2 + 4*z^10 + 18*z^8 + 9/4*z^6 - 81/2*z^4 + 81/4*z^2]"
      ]
     },
     "execution_count": 64,
     "metadata": {},
     "output_type": "execute_result"
    }
   ],
   "source": [
    "GC[-5:]"
   ]
  },
  {
   "cell_type": "markdown",
   "metadata": {},
   "source": [
    "Pour vérifier que $C\\subset S$, nous allons vérifier que $I(S) \\subset I(C)$. On va plonger les deux systèmes de générateurs dans l'anneau $\\mathbb{Q}[x,y,z]$. On va vérifier ensuite que les générateurs de $I(S)$ sont dans l'idéal $I(C)$. "
   ]
  },
  {
   "cell_type": "code",
   "execution_count": 65,
   "metadata": {},
   "outputs": [],
   "source": [
    "IS = B.ideal(GS[-1])"
   ]
  },
  {
   "cell_type": "code",
   "execution_count": 66,
   "metadata": {},
   "outputs": [],
   "source": [
    "IC = B.ideal(GC[-5:])"
   ]
  },
  {
   "cell_type": "code",
   "execution_count": 67,
   "metadata": {},
   "outputs": [
    {
     "data": {
      "text/plain": [
       "True"
      ]
     },
     "execution_count": 67,
     "metadata": {},
     "output_type": "execute_result"
    }
   ],
   "source": [
    "all(g in IC for g in IS.gens())"
   ]
  },
  {
   "cell_type": "code",
   "execution_count": null,
   "metadata": {},
   "outputs": [],
   "source": []
  }
 ],
 "metadata": {
  "kernelspec": {
   "display_name": "SageMath 8.1",
   "language": "",
   "name": "sagemath"
  },
  "language_info": {
   "codemirror_mode": {
    "name": "ipython",
    "version": 2
   },
   "file_extension": ".py",
   "mimetype": "text/x-python",
   "name": "python",
   "nbconvert_exporter": "python",
   "pygments_lexer": "ipython2",
   "version": "2.7.15rc1"
  }
 },
 "nbformat": 4,
 "nbformat_minor": 2
}
