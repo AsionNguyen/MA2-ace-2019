{
 "cells": [
  {
   "cell_type": "markdown",
   "metadata": {},
   "source": [
    "### Exercice 10.7 "
   ]
  },
  {
   "cell_type": "code",
   "execution_count": 1,
   "metadata": {},
   "outputs": [],
   "source": [
    "A.<a,b,c> = PolynomialRing(QQ, order = 'lex')"
   ]
  },
  {
   "cell_type": "code",
   "execution_count": 2,
   "metadata": {},
   "outputs": [],
   "source": [
    "I = A.ideal(a + b + c - 3, a^2 + b^2 + c^2 - 5, a^3 + b^3 + c^3 - 7)"
   ]
  },
  {
   "cell_type": "code",
   "execution_count": 3,
   "metadata": {},
   "outputs": [],
   "source": [
    "P = a^4 + b^4 + c^4 - 9"
   ]
  },
  {
   "cell_type": "code",
   "execution_count": 5,
   "metadata": {},
   "outputs": [],
   "source": [
    "G = I.groebner_basis()"
   ]
  },
  {
   "cell_type": "code",
   "execution_count": 6,
   "metadata": {},
   "outputs": [
    {
     "data": {
      "text/plain": [
       "0"
      ]
     },
     "execution_count": 6,
     "metadata": {},
     "output_type": "execute_result"
    }
   ],
   "source": [
    "P.reduce(G)"
   ]
  },
  {
   "cell_type": "markdown",
   "metadata": {},
   "source": [
    "Lorsqu'on on divise $P = a^4 + b^4 + c^4 - 9$ par $G$ on voit que le reste est $0$. Alors $P \\in I$ ce qui montre que $P = 0$ lorsque  $$a + b + c -3 = a^2 + b^2 + c^2 - 5 =  a^3 + b^3 + c^3 - 7 = 0.$$"
   ]
  },
  {
   "cell_type": "code",
   "execution_count": 7,
   "metadata": {},
   "outputs": [],
   "source": [
    "H = a^5 + b^5 + c^5 - 11"
   ]
  },
  {
   "cell_type": "code",
   "execution_count": 8,
   "metadata": {},
   "outputs": [
    {
     "data": {
      "text/plain": [
       "-4/3"
      ]
     },
     "execution_count": 8,
     "metadata": {},
     "output_type": "execute_result"
    }
   ],
   "source": [
    "H.reduce(G)"
   ]
  },
  {
   "cell_type": "markdown",
   "metadata": {},
   "source": [
    "Lorsqu'on divise $H = a^5 + b^5 + c^5 - 11$ par $G$ on voit que le reste est $-4/3$. Puisque $G$ est une base de $I$, ceci veut dire qu'il existe des polynômes $A$, $B$ et $C$ en $a$, $b$ et $c$ tels que \n",
    "$$ a^5 + b^5 + c^5 - 11 = A(a + b + c - 3) + B(a^2 + b^2 + c^2 - 5) + C(a^3 + b^3 + c^3 - 7) -4/3.$$\n",
    "Si $a + b +c = 3$, $a^2 + b^2 + c^2 = 5$ et $a^3 + b^3 + c^3 = 7$, alors $a^5 + b^5 + c^5 - 11 = -4/3 \\neq 0$."
   ]
  },
  {
   "cell_type": "markdown",
   "metadata": {},
   "source": [
    "On voit donc que $a^5+b^5+c^5 - 11 = -4/3$ et donc $a^5+b^5+c^5 = 29/3$. "
   ]
  },
  {
   "cell_type": "code",
   "execution_count": 9,
   "metadata": {},
   "outputs": [],
   "source": [
    "F = a^6 + b^6 + c^6"
   ]
  },
  {
   "cell_type": "code",
   "execution_count": 10,
   "metadata": {},
   "outputs": [
    {
     "data": {
      "text/plain": [
       "19/3"
      ]
     },
     "execution_count": 10,
     "metadata": {},
     "output_type": "execute_result"
    }
   ],
   "source": [
    "F.reduce(G)"
   ]
  },
  {
   "cell_type": "markdown",
   "metadata": {},
   "source": [
    "Donc $a^6 + b^6 + c^6 = 19/3$."
   ]
  },
  {
   "cell_type": "markdown",
   "metadata": {},
   "source": [
    "### Exercice 7.1"
   ]
  },
  {
   "cell_type": "code",
   "execution_count": 63,
   "metadata": {},
   "outputs": [],
   "source": [
    "A.<x,y> = PolynomialRing(QQ, order = 'lex')"
   ]
  },
  {
   "cell_type": "code",
   "execution_count": 64,
   "metadata": {},
   "outputs": [],
   "source": [
    "P1 = x^3*y - 2*x^2*y^2 + x"
   ]
  },
  {
   "cell_type": "code",
   "execution_count": 65,
   "metadata": {},
   "outputs": [],
   "source": [
    "P2 = 3*x^4 - y"
   ]
  },
  {
   "cell_type": "code",
   "execution_count": 66,
   "metadata": {},
   "outputs": [],
   "source": [
    "l = lcm(P1.lt(), P2.lt())"
   ]
  },
  {
   "cell_type": "code",
   "execution_count": 67,
   "metadata": {},
   "outputs": [
    {
     "data": {
      "text/plain": [
       "3*x^4*y"
      ]
     },
     "execution_count": 67,
     "metadata": {},
     "output_type": "execute_result"
    }
   ],
   "source": [
    "l"
   ]
  },
  {
   "cell_type": "code",
   "execution_count": 68,
   "metadata": {},
   "outputs": [],
   "source": [
    "S = (l//P1.lt())*P1 - (l//P2.lt())*P2"
   ]
  },
  {
   "cell_type": "code",
   "execution_count": 69,
   "metadata": {},
   "outputs": [
    {
     "data": {
      "text/plain": [
       "-6*x^3*y^2 + 3*x^2 + y^2"
      ]
     },
     "execution_count": 69,
     "metadata": {},
     "output_type": "execute_result"
    }
   ],
   "source": [
    "S"
   ]
  },
  {
   "cell_type": "code",
   "execution_count": 71,
   "metadata": {},
   "outputs": [
    {
     "data": {
      "text/plain": [
       "-12*x^2*y^3 + 3*x^2 + 6*x*y + y^2"
      ]
     },
     "execution_count": 71,
     "metadata": {},
     "output_type": "execute_result"
    }
   ],
   "source": [
    "S.reduce([P1, P2])"
   ]
  },
  {
   "cell_type": "markdown",
   "metadata": {},
   "source": [
    "On voit que lorsqu'on réduit $S$ par $G$ le reste n'est pas $0$, alors $\\langle P_1, P_2\\rangle$ n'est pas une base de Gröbner pour $I$. En effet,"
   ]
  },
  {
   "cell_type": "code",
   "execution_count": 19,
   "metadata": {},
   "outputs": [],
   "source": [
    "I = A.ideal(P1, P2)"
   ]
  },
  {
   "cell_type": "code",
   "execution_count": 20,
   "metadata": {},
   "outputs": [
    {
     "data": {
      "text/plain": [
       "False"
      ]
     },
     "execution_count": 20,
     "metadata": {},
     "output_type": "execute_result"
    }
   ],
   "source": [
    "I.basis_is_groebner()"
   ]
  },
  {
   "cell_type": "markdown",
   "metadata": {},
   "source": [
    "### Exercice 7.2"
   ]
  },
  {
   "cell_type": "code",
   "execution_count": 21,
   "metadata": {},
   "outputs": [],
   "source": [
    "A.<x,y,z> = PolynomialRing(QQ, order = 'deglex')"
   ]
  },
  {
   "cell_type": "code",
   "execution_count": 22,
   "metadata": {},
   "outputs": [],
   "source": [
    "P1 = x^2 - y\n",
    "P2 = x^3 - z"
   ]
  },
  {
   "cell_type": "code",
   "execution_count": 25,
   "metadata": {},
   "outputs": [],
   "source": [
    "S = (x^3 // (P1.lt())) * P1 - (x^3 // P2.lt()) * P2"
   ]
  },
  {
   "cell_type": "code",
   "execution_count": 26,
   "metadata": {},
   "outputs": [
    {
     "data": {
      "text/plain": [
       "-x*y + z"
      ]
     },
     "execution_count": 26,
     "metadata": {},
     "output_type": "execute_result"
    }
   ],
   "source": [
    "S"
   ]
  },
  {
   "cell_type": "markdown",
   "metadata": {},
   "source": [
    "On voit qu'aucun terme de $S(P_1, P_2)$ n'est divisible par $x^2$ ou $x^3$, alors il ne s'agit pas d'une base de Gröbner."
   ]
  },
  {
   "cell_type": "code",
   "execution_count": 27,
   "metadata": {},
   "outputs": [],
   "source": [
    "B.<z,y,x> = PolynomialRing(QQ, order = 'lex')"
   ]
  },
  {
   "cell_type": "code",
   "execution_count": 28,
   "metadata": {},
   "outputs": [],
   "source": [
    "P1 = x^2 - y\n",
    "P2 = x^3 - z"
   ]
  },
  {
   "cell_type": "code",
   "execution_count": 29,
   "metadata": {},
   "outputs": [],
   "source": [
    "L = lcm(P1.lt(), P2.lt())"
   ]
  },
  {
   "cell_type": "code",
   "execution_count": 30,
   "metadata": {},
   "outputs": [],
   "source": [
    "S = (L // P1.lt())*P1 - (L // P2.lt())*P2"
   ]
  },
  {
   "cell_type": "code",
   "execution_count": 31,
   "metadata": {},
   "outputs": [
    {
     "data": {
      "text/plain": [
       "-z*x^2 + y*x^3"
      ]
     },
     "execution_count": 31,
     "metadata": {},
     "output_type": "execute_result"
    }
   ],
   "source": [
    "S"
   ]
  },
  {
   "cell_type": "code",
   "execution_count": 32,
   "metadata": {},
   "outputs": [
    {
     "data": {
      "text/plain": [
       "0"
      ]
     },
     "execution_count": 32,
     "metadata": {},
     "output_type": "execute_result"
    }
   ],
   "source": [
    "S.reduce([P1,P2])"
   ]
  },
  {
   "cell_type": "markdown",
   "metadata": {},
   "source": [
    "$(P1,P2)$ vérifie le critère de Buchberger donc est une base de Gröbner de $I = (P1,P2)$"
   ]
  },
  {
   "cell_type": "markdown",
   "metadata": {},
   "source": [
    "### Exercice 7.3"
   ]
  },
  {
   "cell_type": "markdown",
   "metadata": {},
   "source": [
    " Oui. Par exemple, si  $f = x^2-y$ et $g = x^3-z$ pour l'ordre *lex* on a que LCM$(\\mathrm{LT}(f), \\mathrm{LT}(g)) =$   LCM$(x^2-y,x^3-z) = x^3$ et donc que \n",
    "$$\\mathrm{Syz}(f,g) = xy + z,$$ alors que  pour l'ordre *invlex* on a que   LCM$(\\mathrm{LT}(f_1), \\mathrm{LT}(f_2)) =$ LCM$(-y,-z) = yz$ et donc que \n",
    "$$\\mathrm{Syz}(f,g) = zx^2 + yx^3.$$ "
   ]
  },
  {
   "cell_type": "markdown",
   "metadata": {},
   "source": [
    "### Exercice 7.4"
   ]
  },
  {
   "cell_type": "markdown",
   "metadata": {},
   "source": [
    "On peut écrire\n",
    "\\begin{align*}\n",
    "f_1 &= g_1 + r_1 \\\\\n",
    "f_2 &= g_2 + r_2,\n",
    "\\end{align*}\n",
    "avec $g_1, g_2 \\in I$ et où aucun terme de $r_1$ et $r_2$ n'est divisible par aucun $\\mathrm{LT}(g_i), i = 1, \\dots, m.$ On note $r_1 = \\overline{f_1}^G$ et $r_2 = \\overline{f_2}^G$.\n",
    "\n",
    "1. On développe :\n",
    "$$ f_1 - f_2 = (g_1 - g_2) + (r_1 - r_2). $$\n",
    "Si $r_1 = r_2$ alors $f_1 - f_2 \\in I$. Inversement, si $f_1 - f_2 \\in I$, on peut écrire $ f_1 - f_2 $ de deux façons différentes :\n",
    "$$ f_1 - f_2 = (g_1 - g_2) + (r_1 - r_2) = (f_1 - f_2) + 0,$$\n",
    "où $f_1 - f_2, g_1 - g_2 \\in I$ et aucun terme de $(r_1 - r_2)$ ou de $0$ n'est divisible par aucun $\\mathrm{LT}(g_i), i = 1, \\dots, m.$ Puisque $G$ est une base de Gröbner on conclue que $r_1 - r_2 = 0$ et donc que $r_1 = r_2$. \n",
    "\n",
    "2. On a \n",
    "\\begin{align*}\n",
    "f_1 + f_2 &= g_1 + r_1 + g_2 + r_2 \\\\\n",
    "&= (g_1 + g_2) + (r_1 + r_2)\n",
    "\\end{align*}\n",
    "avec aucun terme de $r_1 + r_2$ divisible par aucun élément de $\\mathrm{LT}(I)$. Par l'unicité du reste on a que $r_1 + r_2 = \\overline{f_1+f_2}^G = \\overline{f_1}^G+\\overline{f_2}^G$.\n",
    "\n",
    "\n",
    "3.\n",
    "\\begin{align*}\n",
    "f_1 f_2 &= (g_1 + r_1)(g_2 + r_2) \\\\\n",
    "&= (g_1g_2 + r_1g_2 + r_2g_1) + (r_1r_2).\n",
    "\\end{align*}\n",
    "Par le même type de réflexion on a que $f_1f_2 - r_1r_2 \\in I$, et donc par la partie (a) on a que  $\\overline{f_1f_2}^G = \\overline{r_1r_2}^G = \\overline{\\overline{f_1}^G\\overline{f_2}^G}^G$."
   ]
  },
  {
   "cell_type": "markdown",
   "metadata": {},
   "source": [
    "### Exercice 8.1"
   ]
  },
  {
   "cell_type": "code",
   "execution_count": 74,
   "metadata": {},
   "outputs": [],
   "source": [
    "A.<x,y> = PolynomialRing(QQ, order = 'lex')"
   ]
  },
  {
   "cell_type": "code",
   "execution_count": 75,
   "metadata": {},
   "outputs": [],
   "source": [
    "I = A.ideal(x^2, x*y + y^2)"
   ]
  },
  {
   "cell_type": "code",
   "execution_count": 76,
   "metadata": {},
   "outputs": [],
   "source": [
    "P1 = I.gens()[0]\n",
    "P2 = I.gens()[1]"
   ]
  },
  {
   "cell_type": "code",
   "execution_count": 37,
   "metadata": {},
   "outputs": [],
   "source": [
    "l = lcm(I.gens()[0].lt(), I.gens()[1].lt())"
   ]
  },
  {
   "cell_type": "code",
   "execution_count": 38,
   "metadata": {},
   "outputs": [
    {
     "data": {
      "text/plain": [
       "x^2*y"
      ]
     },
     "execution_count": 38,
     "metadata": {},
     "output_type": "execute_result"
    }
   ],
   "source": [
    "l"
   ]
  },
  {
   "cell_type": "code",
   "execution_count": 40,
   "metadata": {},
   "outputs": [],
   "source": [
    "S = (l//P1.lt())*P1 - (l//P2.lt())*P2"
   ]
  },
  {
   "cell_type": "code",
   "execution_count": 41,
   "metadata": {},
   "outputs": [
    {
     "data": {
      "text/plain": [
       "-x*y^2"
      ]
     },
     "execution_count": 41,
     "metadata": {},
     "output_type": "execute_result"
    }
   ],
   "source": [
    "S"
   ]
  },
  {
   "cell_type": "code",
   "execution_count": 43,
   "metadata": {},
   "outputs": [],
   "source": [
    "P3 = S.reduce([P1, P2])"
   ]
  },
  {
   "cell_type": "code",
   "execution_count": 44,
   "metadata": {},
   "outputs": [],
   "source": [
    "J = A.ideal(P1, P2, P3)"
   ]
  },
  {
   "cell_type": "code",
   "execution_count": 45,
   "metadata": {},
   "outputs": [
    {
     "data": {
      "text/plain": [
       "True"
      ]
     },
     "execution_count": 45,
     "metadata": {},
     "output_type": "execute_result"
    }
   ],
   "source": [
    "J.basis_is_groebner()"
   ]
  },
  {
   "cell_type": "markdown",
   "metadata": {},
   "source": [
    "### Exercice 9.1"
   ]
  },
  {
   "cell_type": "code",
   "execution_count": 50,
   "metadata": {},
   "outputs": [],
   "source": [
    "A.<y,x> = PolynomialRing(QQ, order = 'lex')"
   ]
  },
  {
   "cell_type": "code",
   "execution_count": 51,
   "metadata": {},
   "outputs": [],
   "source": [
    "I = A.ideal(y^4*x + 3*x^3 - y^4 - 3*x^2, x^2*y - 2*x^2, 2*y^4*x - x^3 - 2*y^4 + x^2)"
   ]
  },
  {
   "cell_type": "code",
   "execution_count": 52,
   "metadata": {},
   "outputs": [],
   "source": [
    "G = I.groebner_basis()"
   ]
  },
  {
   "cell_type": "code",
   "execution_count": 53,
   "metadata": {},
   "outputs": [
    {
     "data": {
      "text/plain": [
       "[y^4 - 16*x^2, y*x^2 - 2*x^2, x^3 - x^2]"
      ]
     },
     "execution_count": 53,
     "metadata": {},
     "output_type": "execute_result"
    }
   ],
   "source": [
    "G"
   ]
  },
  {
   "cell_type": "code",
   "execution_count": 54,
   "metadata": {},
   "outputs": [
    {
     "data": {
      "text/plain": [
       "x^3 - x^2"
      ]
     },
     "execution_count": 54,
     "metadata": {},
     "output_type": "execute_result"
    }
   ],
   "source": [
    "G[-1]"
   ]
  },
  {
   "cell_type": "markdown",
   "metadata": {},
   "source": [
    "$G \\cap \\mathbb{Q}[x] = \\langle x^3-x^2 \\rangle$ est une base de Gröbner pour $I \\cap \\mathbb{Q}[x]$."
   ]
  },
  {
   "cell_type": "code",
   "execution_count": 55,
   "metadata": {},
   "outputs": [],
   "source": [
    "J = I.change_ring(A.change_ring(names = 'x,y'))"
   ]
  },
  {
   "cell_type": "code",
   "execution_count": 56,
   "metadata": {},
   "outputs": [],
   "source": [
    "G = J.groebner_basis()"
   ]
  },
  {
   "cell_type": "code",
   "execution_count": 57,
   "metadata": {},
   "outputs": [
    {
     "data": {
      "text/plain": [
       "[x^2 - 1/16*y^4, x*y^4 - y^4, y^5 - 2*y^4]"
      ]
     },
     "execution_count": 57,
     "metadata": {},
     "output_type": "execute_result"
    }
   ],
   "source": [
    "G"
   ]
  },
  {
   "cell_type": "code",
   "execution_count": 58,
   "metadata": {},
   "outputs": [
    {
     "data": {
      "text/plain": [
       "y^5 - 2*y^4"
      ]
     },
     "execution_count": 58,
     "metadata": {},
     "output_type": "execute_result"
    }
   ],
   "source": [
    "G[-1]"
   ]
  },
  {
   "cell_type": "markdown",
   "metadata": {},
   "source": [
    "Il existe une approche plus directe."
   ]
  },
  {
   "cell_type": "code",
   "execution_count": 59,
   "metadata": {},
   "outputs": [
    {
     "data": {
      "text/plain": [
       "Ideal (x^3 - x^2) of Multivariate Polynomial Ring in y, x over Rational Field"
      ]
     },
     "execution_count": 59,
     "metadata": {},
     "output_type": "execute_result"
    }
   ],
   "source": [
    "I.elimination_ideal(y)"
   ]
  },
  {
   "cell_type": "code",
   "execution_count": 60,
   "metadata": {},
   "outputs": [
    {
     "data": {
      "text/plain": [
       "Ideal (y^5 - 2*y^4) of Multivariate Polynomial Ring in y, x over Rational Field"
      ]
     },
     "execution_count": 60,
     "metadata": {},
     "output_type": "execute_result"
    }
   ],
   "source": [
    "I.elimination_ideal(x)"
   ]
  },
  {
   "cell_type": "markdown",
   "metadata": {},
   "source": [
    "### Exercice 9.2"
   ]
  },
  {
   "cell_type": "code",
   "execution_count": null,
   "metadata": {},
   "outputs": [],
   "source": []
  }
 ],
 "metadata": {
  "kernelspec": {
   "display_name": "SageMath 8.1",
   "language": "",
   "name": "sagemath"
  },
  "language_info": {
   "codemirror_mode": {
    "name": "ipython",
    "version": 2
   },
   "file_extension": ".py",
   "mimetype": "text/x-python",
   "name": "python",
   "nbconvert_exporter": "python",
   "pygments_lexer": "ipython2",
   "version": "2.7.15rc1"
  }
 },
 "nbformat": 4,
 "nbformat_minor": 2
}
